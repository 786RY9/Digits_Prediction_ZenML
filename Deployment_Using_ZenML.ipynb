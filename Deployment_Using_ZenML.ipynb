{
  "cells": [
    {
      "cell_type": "code",
      "execution_count": 1,
      "metadata": {
        "colab": {
          "base_uri": "https://localhost:8080/"
        },
        "id": "r8HdCynZ3hzF",
        "outputId": "539777c7-96f3-4997-f602-f00c19cfde80"
      },
      "outputs": [
        {
          "name": "stdout",
          "output_type": "stream",
          "text": [
            "Requirement already satisfied: zenml[server] in /home/ry9/.venvs/myenv/lib/python3.12/site-packages (0.73.0)\n",
            "Requirement already satisfied: Jinja2 in /home/ry9/.venvs/myenv/lib/python3.12/site-packages (from zenml[server]) (3.1.5)\n",
            "Requirement already satisfied: alembic<1.9.0,>=1.8.1 in /home/ry9/.venvs/myenv/lib/python3.12/site-packages (from zenml[server]) (1.8.1)\n",
            "Requirement already satisfied: bcrypt==4.0.1 in /home/ry9/.venvs/myenv/lib/python3.12/site-packages (from zenml[server]) (4.0.1)\n",
            "Requirement already satisfied: click<8.1.4,>=8.0.1 in /home/ry9/.venvs/myenv/lib/python3.12/site-packages (from zenml[server]) (8.1.3)\n",
            "Requirement already satisfied: cloudpickle<3,>=2.0.0 in /home/ry9/.venvs/myenv/lib/python3.12/site-packages (from zenml[server]) (2.2.1)\n",
            "Requirement already satisfied: distro<2.0.0,>=1.6.0 in /home/ry9/.venvs/myenv/lib/python3.12/site-packages (from zenml[server]) (1.9.0)\n",
            "Requirement already satisfied: docker<7.2.0,>=7.1.0 in /home/ry9/.venvs/myenv/lib/python3.12/site-packages (from zenml[server]) (7.1.0)\n",
            "Requirement already satisfied: fastapi<=0.110,>=0.100 in /home/ry9/.venvs/myenv/lib/python3.12/site-packages (from zenml[server]) (0.110.0)\n",
            "Requirement already satisfied: gitpython<4.0.0,>=3.1.18 in /home/ry9/.venvs/myenv/lib/python3.12/site-packages (from zenml[server]) (3.1.44)\n",
            "Requirement already satisfied: ipinfo>=4.4.3 in /home/ry9/.venvs/myenv/lib/python3.12/site-packages (from zenml[server]) (5.1.1)\n",
            "Requirement already satisfied: itsdangerous<2.3.0,>=2.2.0 in /home/ry9/.venvs/myenv/lib/python3.12/site-packages (from zenml[server]) (2.2.0)\n",
            "Requirement already satisfied: orjson<3.11.0,>=3.10.0 in /home/ry9/.venvs/myenv/lib/python3.12/site-packages (from zenml[server]) (3.10.15)\n",
            "Requirement already satisfied: packaging>=24.1 in /home/ry9/.venvs/myenv/lib/python3.12/site-packages (from zenml[server]) (24.2)\n",
            "Requirement already satisfied: passlib<1.8.0,>=1.7.4 in /home/ry9/.venvs/myenv/lib/python3.12/site-packages (from passlib[bcrypt]<1.8.0,>=1.7.4->zenml[server]) (1.7.4)\n",
            "Requirement already satisfied: psutil>=5.0.0 in /home/ry9/.venvs/myenv/lib/python3.12/site-packages (from zenml[server]) (6.1.1)\n",
            "Requirement already satisfied: pydantic<2.9,>=2.8 in /home/ry9/.venvs/myenv/lib/python3.12/site-packages (from zenml[server]) (2.8.2)\n",
            "Requirement already satisfied: pydantic-settings in /home/ry9/.venvs/myenv/lib/python3.12/site-packages (from zenml[server]) (2.7.1)\n",
            "Requirement already satisfied: pyjwt==2.7.* in /home/ry9/.venvs/myenv/lib/python3.12/site-packages (from pyjwt[crypto]==2.7.*; extra == \"server\"->zenml[server]) (2.7.0)\n",
            "Requirement already satisfied: pymysql<1.2.0,>=1.1.1 in /home/ry9/.venvs/myenv/lib/python3.12/site-packages (from zenml[server]) (1.1.1)\n",
            "Requirement already satisfied: python-dateutil<3.0.0,>=2.8.1 in /home/ry9/.venvs/myenv/lib/python3.12/site-packages (from zenml[server]) (2.9.0.post0)\n",
            "Requirement already satisfied: python-multipart<0.1.0,>=0.0.9 in /home/ry9/.venvs/myenv/lib/python3.12/site-packages (from zenml[server]) (0.0.20)\n",
            "Requirement already satisfied: pyyaml>=6.0.1 in /home/ry9/.venvs/myenv/lib/python3.12/site-packages (from zenml[server]) (6.0.2)\n",
            "Requirement already satisfied: rich>=12.0.0 in /home/ry9/.venvs/myenv/lib/python3.12/site-packages (from rich[jupyter]>=12.0.0->zenml[server]) (13.9.4)\n",
            "Requirement already satisfied: secure<0.4.0,>=0.3.0 in /home/ry9/.venvs/myenv/lib/python3.12/site-packages (from zenml[server]) (0.3.0)\n",
            "Requirement already satisfied: setuptools in /home/ry9/.venvs/myenv/lib/python3.12/site-packages (from zenml[server]) (75.8.0)\n",
            "Requirement already satisfied: sqlalchemy<3.0.0,>=2.0.0 in /home/ry9/.venvs/myenv/lib/python3.12/site-packages (from zenml[server]) (2.0.37)\n",
            "Requirement already satisfied: sqlalchemy_utils in /home/ry9/.venvs/myenv/lib/python3.12/site-packages (from zenml[server]) (0.41.2)\n",
            "Requirement already satisfied: sqlmodel==0.0.18 in /home/ry9/.venvs/myenv/lib/python3.12/site-packages (from zenml[server]) (0.0.18)\n",
            "Requirement already satisfied: tldextract<5.2.0,>=5.1.0 in /home/ry9/.venvs/myenv/lib/python3.12/site-packages (from zenml[server]) (5.1.3)\n",
            "Requirement already satisfied: uvicorn>=0.17.5 in /home/ry9/.venvs/myenv/lib/python3.12/site-packages (from uvicorn[standard]>=0.17.5; extra == \"server\"->zenml[server]) (0.34.0)\n",
            "Requirement already satisfied: cryptography>=3.4.0 in /home/ry9/.venvs/myenv/lib/python3.12/site-packages (from pyjwt[crypto]==2.7.*; extra == \"server\"->zenml[server]) (44.0.0)\n",
            "Requirement already satisfied: Mako in /home/ry9/.venvs/myenv/lib/python3.12/site-packages (from alembic<1.9.0,>=1.8.1->zenml[server]) (1.3.9)\n",
            "Requirement already satisfied: requests>=2.26.0 in /home/ry9/.venvs/myenv/lib/python3.12/site-packages (from docker<7.2.0,>=7.1.0->zenml[server]) (2.32.3)\n",
            "Requirement already satisfied: urllib3>=1.26.0 in /home/ry9/.venvs/myenv/lib/python3.12/site-packages (from docker<7.2.0,>=7.1.0->zenml[server]) (2.3.0)\n",
            "Requirement already satisfied: starlette<0.37.0,>=0.36.3 in /home/ry9/.venvs/myenv/lib/python3.12/site-packages (from fastapi<=0.110,>=0.100->zenml[server]) (0.36.3)\n",
            "Requirement already satisfied: typing-extensions>=4.8.0 in /home/ry9/.venvs/myenv/lib/python3.12/site-packages (from fastapi<=0.110,>=0.100->zenml[server]) (4.12.2)\n",
            "Requirement already satisfied: gitdb<5,>=4.0.1 in /home/ry9/.venvs/myenv/lib/python3.12/site-packages (from gitpython<4.0.0,>=3.1.18->zenml[server]) (4.0.12)\n",
            "Requirement already satisfied: cachetools in /home/ry9/.venvs/myenv/lib/python3.12/site-packages (from ipinfo>=4.4.3->zenml[server]) (5.5.1)\n",
            "Requirement already satisfied: aiohttp<=4 in /home/ry9/.venvs/myenv/lib/python3.12/site-packages (from ipinfo>=4.4.3->zenml[server]) (3.11.11)\n",
            "Requirement already satisfied: annotated-types>=0.4.0 in /home/ry9/.venvs/myenv/lib/python3.12/site-packages (from pydantic<2.9,>=2.8->zenml[server]) (0.7.0)\n",
            "Requirement already satisfied: pydantic-core==2.20.1 in /home/ry9/.venvs/myenv/lib/python3.12/site-packages (from pydantic<2.9,>=2.8->zenml[server]) (2.20.1)\n",
            "Requirement already satisfied: six>=1.5 in /home/ry9/.venvs/myenv/lib/python3.12/site-packages (from python-dateutil<3.0.0,>=2.8.1->zenml[server]) (1.17.0)\n",
            "Requirement already satisfied: markdown-it-py>=2.2.0 in /home/ry9/.venvs/myenv/lib/python3.12/site-packages (from rich>=12.0.0->rich[jupyter]>=12.0.0->zenml[server]) (3.0.0)\n",
            "Requirement already satisfied: pygments<3.0.0,>=2.13.0 in /home/ry9/.venvs/myenv/lib/python3.12/site-packages (from rich>=12.0.0->rich[jupyter]>=12.0.0->zenml[server]) (2.19.1)\n",
            "Requirement already satisfied: ipywidgets<9,>=7.5.1 in /home/ry9/.venvs/myenv/lib/python3.12/site-packages (from rich[jupyter]>=12.0.0->zenml[server]) (8.1.5)\n",
            "Requirement already satisfied: greenlet!=0.4.17 in /home/ry9/.venvs/myenv/lib/python3.12/site-packages (from sqlalchemy<3.0.0,>=2.0.0->zenml[server]) (3.1.1)\n",
            "Requirement already satisfied: idna in /home/ry9/.venvs/myenv/lib/python3.12/site-packages (from tldextract<5.2.0,>=5.1.0->zenml[server]) (3.10)\n",
            "Requirement already satisfied: requests-file>=1.4 in /home/ry9/.venvs/myenv/lib/python3.12/site-packages (from tldextract<5.2.0,>=5.1.0->zenml[server]) (2.1.0)\n",
            "Requirement already satisfied: filelock>=3.0.8 in /home/ry9/.venvs/myenv/lib/python3.12/site-packages (from tldextract<5.2.0,>=5.1.0->zenml[server]) (3.17.0)\n",
            "Requirement already satisfied: h11>=0.8 in /home/ry9/.venvs/myenv/lib/python3.12/site-packages (from uvicorn>=0.17.5->uvicorn[standard]>=0.17.5; extra == \"server\"->zenml[server]) (0.14.0)\n",
            "Requirement already satisfied: httptools>=0.6.3 in /home/ry9/.venvs/myenv/lib/python3.12/site-packages (from uvicorn[standard]>=0.17.5; extra == \"server\"->zenml[server]) (0.6.4)\n",
            "Requirement already satisfied: python-dotenv>=0.13 in /home/ry9/.venvs/myenv/lib/python3.12/site-packages (from uvicorn[standard]>=0.17.5; extra == \"server\"->zenml[server]) (1.0.1)\n",
            "Requirement already satisfied: uvloop!=0.15.0,!=0.15.1,>=0.14.0 in /home/ry9/.venvs/myenv/lib/python3.12/site-packages (from uvicorn[standard]>=0.17.5; extra == \"server\"->zenml[server]) (0.21.0)\n",
            "Requirement already satisfied: watchfiles>=0.13 in /home/ry9/.venvs/myenv/lib/python3.12/site-packages (from uvicorn[standard]>=0.17.5; extra == \"server\"->zenml[server]) (1.0.4)\n",
            "Requirement already satisfied: websockets>=10.4 in /home/ry9/.venvs/myenv/lib/python3.12/site-packages (from uvicorn[standard]>=0.17.5; extra == \"server\"->zenml[server]) (14.2)\n",
            "Requirement already satisfied: MarkupSafe>=2.0 in /home/ry9/.venvs/myenv/lib/python3.12/site-packages (from Jinja2->zenml[server]) (3.0.2)\n",
            "Requirement already satisfied: aiohappyeyeballs>=2.3.0 in /home/ry9/.venvs/myenv/lib/python3.12/site-packages (from aiohttp<=4->ipinfo>=4.4.3->zenml[server]) (2.4.4)\n",
            "Requirement already satisfied: aiosignal>=1.1.2 in /home/ry9/.venvs/myenv/lib/python3.12/site-packages (from aiohttp<=4->ipinfo>=4.4.3->zenml[server]) (1.3.2)\n",
            "Requirement already satisfied: attrs>=17.3.0 in /home/ry9/.venvs/myenv/lib/python3.12/site-packages (from aiohttp<=4->ipinfo>=4.4.3->zenml[server]) (25.1.0)\n",
            "Requirement already satisfied: frozenlist>=1.1.1 in /home/ry9/.venvs/myenv/lib/python3.12/site-packages (from aiohttp<=4->ipinfo>=4.4.3->zenml[server]) (1.5.0)\n",
            "Requirement already satisfied: multidict<7.0,>=4.5 in /home/ry9/.venvs/myenv/lib/python3.12/site-packages (from aiohttp<=4->ipinfo>=4.4.3->zenml[server]) (6.1.0)\n",
            "Requirement already satisfied: propcache>=0.2.0 in /home/ry9/.venvs/myenv/lib/python3.12/site-packages (from aiohttp<=4->ipinfo>=4.4.3->zenml[server]) (0.2.1)\n",
            "Requirement already satisfied: yarl<2.0,>=1.17.0 in /home/ry9/.venvs/myenv/lib/python3.12/site-packages (from aiohttp<=4->ipinfo>=4.4.3->zenml[server]) (1.18.3)\n",
            "Requirement already satisfied: cffi>=1.12 in /home/ry9/.venvs/myenv/lib/python3.12/site-packages (from cryptography>=3.4.0->pyjwt[crypto]==2.7.*; extra == \"server\"->zenml[server]) (1.17.1)\n",
            "Requirement already satisfied: smmap<6,>=3.0.1 in /home/ry9/.venvs/myenv/lib/python3.12/site-packages (from gitdb<5,>=4.0.1->gitpython<4.0.0,>=3.1.18->zenml[server]) (5.0.2)\n",
            "Requirement already satisfied: comm>=0.1.3 in /home/ry9/.venvs/myenv/lib/python3.12/site-packages (from ipywidgets<9,>=7.5.1->rich[jupyter]>=12.0.0->zenml[server]) (0.2.2)\n",
            "Requirement already satisfied: ipython>=6.1.0 in /home/ry9/.venvs/myenv/lib/python3.12/site-packages (from ipywidgets<9,>=7.5.1->rich[jupyter]>=12.0.0->zenml[server]) (8.32.0)\n",
            "Requirement already satisfied: traitlets>=4.3.1 in /home/ry9/.venvs/myenv/lib/python3.12/site-packages (from ipywidgets<9,>=7.5.1->rich[jupyter]>=12.0.0->zenml[server]) (5.14.3)\n",
            "Requirement already satisfied: widgetsnbextension~=4.0.12 in /home/ry9/.venvs/myenv/lib/python3.12/site-packages (from ipywidgets<9,>=7.5.1->rich[jupyter]>=12.0.0->zenml[server]) (4.0.13)\n",
            "Requirement already satisfied: jupyterlab-widgets~=3.0.12 in /home/ry9/.venvs/myenv/lib/python3.12/site-packages (from ipywidgets<9,>=7.5.1->rich[jupyter]>=12.0.0->zenml[server]) (3.0.13)\n",
            "Requirement already satisfied: mdurl~=0.1 in /home/ry9/.venvs/myenv/lib/python3.12/site-packages (from markdown-it-py>=2.2.0->rich>=12.0.0->rich[jupyter]>=12.0.0->zenml[server]) (0.1.2)\n",
            "Requirement already satisfied: charset-normalizer<4,>=2 in /home/ry9/.venvs/myenv/lib/python3.12/site-packages (from requests>=2.26.0->docker<7.2.0,>=7.1.0->zenml[server]) (3.4.1)\n",
            "Requirement already satisfied: certifi>=2017.4.17 in /home/ry9/.venvs/myenv/lib/python3.12/site-packages (from requests>=2.26.0->docker<7.2.0,>=7.1.0->zenml[server]) (2025.1.31)\n",
            "Requirement already satisfied: anyio<5,>=3.4.0 in /home/ry9/.venvs/myenv/lib/python3.12/site-packages (from starlette<0.37.0,>=0.36.3->fastapi<=0.110,>=0.100->zenml[server]) (4.8.0)\n",
            "Requirement already satisfied: sniffio>=1.1 in /home/ry9/.venvs/myenv/lib/python3.12/site-packages (from anyio<5,>=3.4.0->starlette<0.37.0,>=0.36.3->fastapi<=0.110,>=0.100->zenml[server]) (1.3.1)\n",
            "Requirement already satisfied: pycparser in /home/ry9/.venvs/myenv/lib/python3.12/site-packages (from cffi>=1.12->cryptography>=3.4.0->pyjwt[crypto]==2.7.*; extra == \"server\"->zenml[server]) (2.22)\n",
            "Requirement already satisfied: decorator in /home/ry9/.venvs/myenv/lib/python3.12/site-packages (from ipython>=6.1.0->ipywidgets<9,>=7.5.1->rich[jupyter]>=12.0.0->zenml[server]) (5.1.1)\n",
            "Requirement already satisfied: jedi>=0.16 in /home/ry9/.venvs/myenv/lib/python3.12/site-packages (from ipython>=6.1.0->ipywidgets<9,>=7.5.1->rich[jupyter]>=12.0.0->zenml[server]) (0.19.2)\n",
            "Requirement already satisfied: matplotlib-inline in /home/ry9/.venvs/myenv/lib/python3.12/site-packages (from ipython>=6.1.0->ipywidgets<9,>=7.5.1->rich[jupyter]>=12.0.0->zenml[server]) (0.1.7)\n",
            "Requirement already satisfied: pexpect>4.3 in /home/ry9/.venvs/myenv/lib/python3.12/site-packages (from ipython>=6.1.0->ipywidgets<9,>=7.5.1->rich[jupyter]>=12.0.0->zenml[server]) (4.9.0)\n",
            "Requirement already satisfied: prompt_toolkit<3.1.0,>=3.0.41 in /home/ry9/.venvs/myenv/lib/python3.12/site-packages (from ipython>=6.1.0->ipywidgets<9,>=7.5.1->rich[jupyter]>=12.0.0->zenml[server]) (3.0.50)\n",
            "Requirement already satisfied: stack_data in /home/ry9/.venvs/myenv/lib/python3.12/site-packages (from ipython>=6.1.0->ipywidgets<9,>=7.5.1->rich[jupyter]>=12.0.0->zenml[server]) (0.6.3)\n",
            "Requirement already satisfied: parso<0.9.0,>=0.8.4 in /home/ry9/.venvs/myenv/lib/python3.12/site-packages (from jedi>=0.16->ipython>=6.1.0->ipywidgets<9,>=7.5.1->rich[jupyter]>=12.0.0->zenml[server]) (0.8.4)\n",
            "Requirement already satisfied: ptyprocess>=0.5 in /home/ry9/.venvs/myenv/lib/python3.12/site-packages (from pexpect>4.3->ipython>=6.1.0->ipywidgets<9,>=7.5.1->rich[jupyter]>=12.0.0->zenml[server]) (0.7.0)\n",
            "Requirement already satisfied: wcwidth in /home/ry9/.venvs/myenv/lib/python3.12/site-packages (from prompt_toolkit<3.1.0,>=3.0.41->ipython>=6.1.0->ipywidgets<9,>=7.5.1->rich[jupyter]>=12.0.0->zenml[server]) (0.2.13)\n",
            "Requirement already satisfied: executing>=1.2.0 in /home/ry9/.venvs/myenv/lib/python3.12/site-packages (from stack_data->ipython>=6.1.0->ipywidgets<9,>=7.5.1->rich[jupyter]>=12.0.0->zenml[server]) (2.2.0)\n",
            "Requirement already satisfied: asttokens>=2.1.0 in /home/ry9/.venvs/myenv/lib/python3.12/site-packages (from stack_data->ipython>=6.1.0->ipywidgets<9,>=7.5.1->rich[jupyter]>=12.0.0->zenml[server]) (3.0.0)\n",
            "Requirement already satisfied: pure-eval in /home/ry9/.venvs/myenv/lib/python3.12/site-packages (from stack_data->ipython>=6.1.0->ipywidgets<9,>=7.5.1->rich[jupyter]>=12.0.0->zenml[server]) (0.2.3)\n",
            "Note: you may need to restart the kernel to use updated packages.\n"
          ]
        }
      ],
      "source": [
        "%pip install 'zenml[server]'"
      ]
    },
    {
      "cell_type": "code",
      "execution_count": 2,
      "metadata": {
        "id": "1wjzmBNn3nwe"
      },
      "outputs": [
        {
          "name": "stdout",
          "output_type": "stream",
          "text": [
            "\u001b[2K\u001b[32m⠇\u001b[0m Installing integrations.....\n",
            "\u001b[1A\u001b[2K"
          ]
        }
      ],
      "source": [
        "!zenml integration install sklearn -y"
      ]
    },
    {
      "cell_type": "code",
      "execution_count": 3,
      "metadata": {
        "id": "mftPdArc3tX6"
      },
      "outputs": [
        {
          "name": "stdout",
          "output_type": "stream",
          "text": [
            "Requirement already satisfied: pyparsing==2.4.2 in /home/ry9/.venvs/myenv/lib/python3.12/site-packages (2.4.2)\n",
            "Note: you may need to restart the kernel to use updated packages.\n"
          ]
        }
      ],
      "source": [
        "%pip install pyparsing==2.4.2"
      ]
    },
    {
      "cell_type": "code",
      "execution_count": 4,
      "metadata": {
        "id": "-PpfByya36km"
      },
      "outputs": [],
      "source": [
        "import IPython"
      ]
    },
    {
      "cell_type": "code",
      "execution_count": 5,
      "metadata": {
        "id": "Z8j164fi393A"
      },
      "outputs": [],
      "source": [
        "# IPython.Application.instance().kernel.do_shutdown(restart=True)"
      ]
    },
    {
      "cell_type": "code",
      "execution_count": 6,
      "metadata": {
        "id": "psa44d3L3JMz"
      },
      "outputs": [],
      "source": [
        "NGROK_TOKEN = \"2sbxub7WlpKefCVZZJ0neEcDDHX_2mPBYZRZea1D2YZd6QEYC\" # todo: setting  ngrok token if colab"
      ]
    },
    {
      "cell_type": "code",
      "execution_count": 7,
      "metadata": {
        "id": "qRasKlIA6lS2"
      },
      "outputs": [
        {
          "name": "stdout",
          "output_type": "stream",
          "text": [
            "Requirement already satisfied: zenml in /home/ry9/.venvs/myenv/lib/python3.12/site-packages (0.73.0)\n",
            "Requirement already satisfied: alembic<1.9.0,>=1.8.1 in /home/ry9/.venvs/myenv/lib/python3.12/site-packages (from zenml) (1.8.1)\n",
            "Requirement already satisfied: bcrypt==4.0.1 in /home/ry9/.venvs/myenv/lib/python3.12/site-packages (from zenml) (4.0.1)\n",
            "Requirement already satisfied: click<8.1.4,>=8.0.1 in /home/ry9/.venvs/myenv/lib/python3.12/site-packages (from zenml) (8.1.3)\n",
            "Requirement already satisfied: cloudpickle<3,>=2.0.0 in /home/ry9/.venvs/myenv/lib/python3.12/site-packages (from zenml) (2.2.1)\n",
            "Requirement already satisfied: distro<2.0.0,>=1.6.0 in /home/ry9/.venvs/myenv/lib/python3.12/site-packages (from zenml) (1.9.0)\n",
            "Requirement already satisfied: docker<7.2.0,>=7.1.0 in /home/ry9/.venvs/myenv/lib/python3.12/site-packages (from zenml) (7.1.0)\n",
            "Requirement already satisfied: gitpython<4.0.0,>=3.1.18 in /home/ry9/.venvs/myenv/lib/python3.12/site-packages (from zenml) (3.1.44)\n",
            "Requirement already satisfied: packaging>=24.1 in /home/ry9/.venvs/myenv/lib/python3.12/site-packages (from zenml) (24.2)\n",
            "Requirement already satisfied: passlib<1.8.0,>=1.7.4 in /home/ry9/.venvs/myenv/lib/python3.12/site-packages (from passlib[bcrypt]<1.8.0,>=1.7.4->zenml) (1.7.4)\n",
            "Requirement already satisfied: psutil>=5.0.0 in /home/ry9/.venvs/myenv/lib/python3.12/site-packages (from zenml) (6.1.1)\n",
            "Requirement already satisfied: pydantic<2.9,>=2.8 in /home/ry9/.venvs/myenv/lib/python3.12/site-packages (from zenml) (2.8.2)\n",
            "Requirement already satisfied: pydantic-settings in /home/ry9/.venvs/myenv/lib/python3.12/site-packages (from zenml) (2.7.1)\n",
            "Requirement already satisfied: pymysql<1.2.0,>=1.1.1 in /home/ry9/.venvs/myenv/lib/python3.12/site-packages (from zenml) (1.1.1)\n",
            "Requirement already satisfied: python-dateutil<3.0.0,>=2.8.1 in /home/ry9/.venvs/myenv/lib/python3.12/site-packages (from zenml) (2.9.0.post0)\n",
            "Requirement already satisfied: pyyaml>=6.0.1 in /home/ry9/.venvs/myenv/lib/python3.12/site-packages (from zenml) (6.0.2)\n",
            "Requirement already satisfied: rich>=12.0.0 in /home/ry9/.venvs/myenv/lib/python3.12/site-packages (from rich[jupyter]>=12.0.0->zenml) (13.9.4)\n",
            "Requirement already satisfied: setuptools in /home/ry9/.venvs/myenv/lib/python3.12/site-packages (from zenml) (75.8.0)\n",
            "Requirement already satisfied: sqlalchemy<3.0.0,>=2.0.0 in /home/ry9/.venvs/myenv/lib/python3.12/site-packages (from zenml) (2.0.37)\n",
            "Requirement already satisfied: sqlalchemy_utils in /home/ry9/.venvs/myenv/lib/python3.12/site-packages (from zenml) (0.41.2)\n",
            "Requirement already satisfied: sqlmodel==0.0.18 in /home/ry9/.venvs/myenv/lib/python3.12/site-packages (from zenml) (0.0.18)\n",
            "Requirement already satisfied: Mako in /home/ry9/.venvs/myenv/lib/python3.12/site-packages (from alembic<1.9.0,>=1.8.1->zenml) (1.3.9)\n",
            "Requirement already satisfied: requests>=2.26.0 in /home/ry9/.venvs/myenv/lib/python3.12/site-packages (from docker<7.2.0,>=7.1.0->zenml) (2.32.3)\n",
            "Requirement already satisfied: urllib3>=1.26.0 in /home/ry9/.venvs/myenv/lib/python3.12/site-packages (from docker<7.2.0,>=7.1.0->zenml) (2.3.0)\n",
            "Requirement already satisfied: gitdb<5,>=4.0.1 in /home/ry9/.venvs/myenv/lib/python3.12/site-packages (from gitpython<4.0.0,>=3.1.18->zenml) (4.0.12)\n",
            "Requirement already satisfied: annotated-types>=0.4.0 in /home/ry9/.venvs/myenv/lib/python3.12/site-packages (from pydantic<2.9,>=2.8->zenml) (0.7.0)\n",
            "Requirement already satisfied: pydantic-core==2.20.1 in /home/ry9/.venvs/myenv/lib/python3.12/site-packages (from pydantic<2.9,>=2.8->zenml) (2.20.1)\n",
            "Requirement already satisfied: typing-extensions>=4.6.1 in /home/ry9/.venvs/myenv/lib/python3.12/site-packages (from pydantic<2.9,>=2.8->zenml) (4.12.2)\n",
            "Requirement already satisfied: six>=1.5 in /home/ry9/.venvs/myenv/lib/python3.12/site-packages (from python-dateutil<3.0.0,>=2.8.1->zenml) (1.17.0)\n",
            "Requirement already satisfied: markdown-it-py>=2.2.0 in /home/ry9/.venvs/myenv/lib/python3.12/site-packages (from rich>=12.0.0->rich[jupyter]>=12.0.0->zenml) (3.0.0)\n",
            "Requirement already satisfied: pygments<3.0.0,>=2.13.0 in /home/ry9/.venvs/myenv/lib/python3.12/site-packages (from rich>=12.0.0->rich[jupyter]>=12.0.0->zenml) (2.19.1)\n",
            "Requirement already satisfied: ipywidgets<9,>=7.5.1 in /home/ry9/.venvs/myenv/lib/python3.12/site-packages (from rich[jupyter]>=12.0.0->zenml) (8.1.5)\n",
            "Requirement already satisfied: greenlet!=0.4.17 in /home/ry9/.venvs/myenv/lib/python3.12/site-packages (from sqlalchemy<3.0.0,>=2.0.0->zenml) (3.1.1)\n",
            "Requirement already satisfied: python-dotenv>=0.21.0 in /home/ry9/.venvs/myenv/lib/python3.12/site-packages (from pydantic-settings->zenml) (1.0.1)\n",
            "Requirement already satisfied: smmap<6,>=3.0.1 in /home/ry9/.venvs/myenv/lib/python3.12/site-packages (from gitdb<5,>=4.0.1->gitpython<4.0.0,>=3.1.18->zenml) (5.0.2)\n",
            "Requirement already satisfied: comm>=0.1.3 in /home/ry9/.venvs/myenv/lib/python3.12/site-packages (from ipywidgets<9,>=7.5.1->rich[jupyter]>=12.0.0->zenml) (0.2.2)\n",
            "Requirement already satisfied: ipython>=6.1.0 in /home/ry9/.venvs/myenv/lib/python3.12/site-packages (from ipywidgets<9,>=7.5.1->rich[jupyter]>=12.0.0->zenml) (8.32.0)\n",
            "Requirement already satisfied: traitlets>=4.3.1 in /home/ry9/.venvs/myenv/lib/python3.12/site-packages (from ipywidgets<9,>=7.5.1->rich[jupyter]>=12.0.0->zenml) (5.14.3)\n",
            "Requirement already satisfied: widgetsnbextension~=4.0.12 in /home/ry9/.venvs/myenv/lib/python3.12/site-packages (from ipywidgets<9,>=7.5.1->rich[jupyter]>=12.0.0->zenml) (4.0.13)\n",
            "Requirement already satisfied: jupyterlab-widgets~=3.0.12 in /home/ry9/.venvs/myenv/lib/python3.12/site-packages (from ipywidgets<9,>=7.5.1->rich[jupyter]>=12.0.0->zenml) (3.0.13)\n",
            "Requirement already satisfied: mdurl~=0.1 in /home/ry9/.venvs/myenv/lib/python3.12/site-packages (from markdown-it-py>=2.2.0->rich>=12.0.0->rich[jupyter]>=12.0.0->zenml) (0.1.2)\n",
            "Requirement already satisfied: charset-normalizer<4,>=2 in /home/ry9/.venvs/myenv/lib/python3.12/site-packages (from requests>=2.26.0->docker<7.2.0,>=7.1.0->zenml) (3.4.1)\n",
            "Requirement already satisfied: idna<4,>=2.5 in /home/ry9/.venvs/myenv/lib/python3.12/site-packages (from requests>=2.26.0->docker<7.2.0,>=7.1.0->zenml) (3.10)\n",
            "Requirement already satisfied: certifi>=2017.4.17 in /home/ry9/.venvs/myenv/lib/python3.12/site-packages (from requests>=2.26.0->docker<7.2.0,>=7.1.0->zenml) (2025.1.31)\n",
            "Requirement already satisfied: MarkupSafe>=0.9.2 in /home/ry9/.venvs/myenv/lib/python3.12/site-packages (from Mako->alembic<1.9.0,>=1.8.1->zenml) (3.0.2)\n",
            "Requirement already satisfied: decorator in /home/ry9/.venvs/myenv/lib/python3.12/site-packages (from ipython>=6.1.0->ipywidgets<9,>=7.5.1->rich[jupyter]>=12.0.0->zenml) (5.1.1)\n",
            "Requirement already satisfied: jedi>=0.16 in /home/ry9/.venvs/myenv/lib/python3.12/site-packages (from ipython>=6.1.0->ipywidgets<9,>=7.5.1->rich[jupyter]>=12.0.0->zenml) (0.19.2)\n",
            "Requirement already satisfied: matplotlib-inline in /home/ry9/.venvs/myenv/lib/python3.12/site-packages (from ipython>=6.1.0->ipywidgets<9,>=7.5.1->rich[jupyter]>=12.0.0->zenml) (0.1.7)\n",
            "Requirement already satisfied: pexpect>4.3 in /home/ry9/.venvs/myenv/lib/python3.12/site-packages (from ipython>=6.1.0->ipywidgets<9,>=7.5.1->rich[jupyter]>=12.0.0->zenml) (4.9.0)\n",
            "Requirement already satisfied: prompt_toolkit<3.1.0,>=3.0.41 in /home/ry9/.venvs/myenv/lib/python3.12/site-packages (from ipython>=6.1.0->ipywidgets<9,>=7.5.1->rich[jupyter]>=12.0.0->zenml) (3.0.50)\n",
            "Requirement already satisfied: stack_data in /home/ry9/.venvs/myenv/lib/python3.12/site-packages (from ipython>=6.1.0->ipywidgets<9,>=7.5.1->rich[jupyter]>=12.0.0->zenml) (0.6.3)\n",
            "Requirement already satisfied: parso<0.9.0,>=0.8.4 in /home/ry9/.venvs/myenv/lib/python3.12/site-packages (from jedi>=0.16->ipython>=6.1.0->ipywidgets<9,>=7.5.1->rich[jupyter]>=12.0.0->zenml) (0.8.4)\n",
            "Requirement already satisfied: ptyprocess>=0.5 in /home/ry9/.venvs/myenv/lib/python3.12/site-packages (from pexpect>4.3->ipython>=6.1.0->ipywidgets<9,>=7.5.1->rich[jupyter]>=12.0.0->zenml) (0.7.0)\n",
            "Requirement already satisfied: wcwidth in /home/ry9/.venvs/myenv/lib/python3.12/site-packages (from prompt_toolkit<3.1.0,>=3.0.41->ipython>=6.1.0->ipywidgets<9,>=7.5.1->rich[jupyter]>=12.0.0->zenml) (0.2.13)\n",
            "Requirement already satisfied: executing>=1.2.0 in /home/ry9/.venvs/myenv/lib/python3.12/site-packages (from stack_data->ipython>=6.1.0->ipywidgets<9,>=7.5.1->rich[jupyter]>=12.0.0->zenml) (2.2.0)\n",
            "Requirement already satisfied: asttokens>=2.1.0 in /home/ry9/.venvs/myenv/lib/python3.12/site-packages (from stack_data->ipython>=6.1.0->ipywidgets<9,>=7.5.1->rich[jupyter]>=12.0.0->zenml) (3.0.0)\n",
            "Requirement already satisfied: pure-eval in /home/ry9/.venvs/myenv/lib/python3.12/site-packages (from stack_data->ipython>=6.1.0->ipywidgets<9,>=7.5.1->rich[jupyter]>=12.0.0->zenml) (0.2.3)\n",
            "Note: you may need to restart the kernel to use updated packages.\n"
          ]
        }
      ],
      "source": [
        "%pip install zenml"
      ]
    },
    {
      "cell_type": "code",
      "execution_count": 8,
      "metadata": {
        "id": "cHCKXWzb3Os7"
      },
      "outputs": [],
      "source": [
        "# %pip install zenml  # Install zenml\n",
        "from zenml.environment import Environment # Corrected import statement\n",
        "if Environment.in_google_colab():\n",
        "  !pip install pyngrok\n",
        "  !ngrok authtokent{NGROK_TOKEN}"
      ]
    },
    {
      "cell_type": "code",
      "execution_count": 9,
      "metadata": {
        "id": "PZs5rSYw3OqT"
      },
      "outputs": [
        {
          "name": "stdout",
          "output_type": "stream",
          "text": [
            "rm: refusing to remove '.' or '..' directory: skipping '.'\n"
          ]
        },
        {
          "name": "stdout",
          "output_type": "stream",
          "text": [
            "\u001b[?25l\u001b[2;36mFound existing ZenML repository at path \u001b[0m\u001b[2;32m'/home/ry9/Downloads'\u001b[0m\u001b[2;36m.\u001b[0m\n",
            "\u001b[2;32m⠋\u001b[0m\u001b[2;36m Initializing ZenML repository at /home/ry9/Downloads.\u001b[0m\n",
            "\u001b[2K\u001b[1A\u001b[2K\u001b[32m⠋\u001b[0m Initializing ZenML repository at /home/ry9/Downloads.\n",
            "\n",
            "\u001b[1A\u001b[2K\u001b[1A\u001b[2K"
          ]
        }
      ],
      "source": [
        "!rm -rf . zen\n",
        "!zenml init"
      ]
    },
    {
      "cell_type": "code",
      "execution_count": 10,
      "metadata": {
        "id": "5HRpNRBT3On8"
      },
      "outputs": [],
      "source": [
        "import numpy as np\n",
        "from sklearn.svm import SVC\n",
        "from sklearn.datasets import load_digits\n",
        "from sklearn.model_selection import train_test_split\n",
        "from sklearn.metrics import accuracy_score"
      ]
    },
    {
      "cell_type": "code",
      "execution_count": 11,
      "metadata": {
        "id": "rJWGYHNq6ivt"
      },
      "outputs": [
        {
          "name": "stdout",
          "output_type": "stream",
          "text": [
            "Accuracy: 0.9583333333333334\n"
          ]
        }
      ],
      "source": [
        "def train_test()->None:\n",
        "  digits = load_digits()\n",
        "  data = digits.images.reshape((len(digits.images), -1))\n",
        "  X_train, X_test, y_train, y_test = train_test_split(data, digits.target, test_size=0.2, shuffle=False)\n",
        "  classifier = SVC(gamma=0.001)\n",
        "  classifier.fit(X_train, y_train)\n",
        "  y_pred = classifier.predict(X_test)\n",
        "  accuracy = accuracy_score(y_test, y_pred)\n",
        "  print(f\"Accuracy: {accuracy}\")\n",
        "\n",
        "train_test()"
      ]
    },
    {
      "cell_type": "markdown",
      "metadata": {
        "id": "T0lxOn877Z04"
      },
      "source": [
        "# Turning Experiments into ML Pipelines with ZenML"
      ]
    },
    {
      "cell_type": "code",
      "execution_count": 12,
      "metadata": {},
      "outputs": [
        {
          "name": "stdout",
          "output_type": "stream",
          "text": [
            "Requirement already satisfied: pandas in /home/ry9/.venvs/myenv/lib/python3.12/site-packages (2.2.3)\n",
            "Requirement already satisfied: numpy>=1.26.0 in /home/ry9/.venvs/myenv/lib/python3.12/site-packages (from pandas) (2.2.2)\n",
            "Requirement already satisfied: python-dateutil>=2.8.2 in /home/ry9/.venvs/myenv/lib/python3.12/site-packages (from pandas) (2.9.0.post0)\n",
            "Requirement already satisfied: pytz>=2020.1 in /home/ry9/.venvs/myenv/lib/python3.12/site-packages (from pandas) (2025.1)\n",
            "Requirement already satisfied: tzdata>=2022.7 in /home/ry9/.venvs/myenv/lib/python3.12/site-packages (from pandas) (2025.1)\n",
            "Requirement already satisfied: six>=1.5 in /home/ry9/.venvs/myenv/lib/python3.12/site-packages (from python-dateutil>=2.8.2->pandas) (1.17.0)\n",
            "Note: you may need to restart the kernel to use updated packages.\n"
          ]
        }
      ],
      "source": [
        "%pip install pandas"
      ]
    },
    {
      "cell_type": "code",
      "execution_count": 13,
      "metadata": {},
      "outputs": [
        {
          "name": "stdout",
          "output_type": "stream",
          "text": [
            "Requirement already satisfied: typing_extensions in /home/ry9/.venvs/myenv/lib/python3.12/site-packages (4.12.2)\n",
            "Note: you may need to restart the kernel to use updated packages.\n"
          ]
        }
      ],
      "source": [
        "%pip install typing_extensions"
      ]
    },
    {
      "cell_type": "code",
      "execution_count": 14,
      "metadata": {
        "id": "WQxJu9yB3OlQ"
      },
      "outputs": [],
      "source": [
        "from zenml import step\n",
        "from typing_extensions import Annotated\n",
        "import pandas as pd\n",
        "from typing import Tuple"
      ]
    },
    {
      "cell_type": "code",
      "execution_count": 15,
      "metadata": {
        "id": "4POZSQPS3OiV"
      },
      "outputs": [],
      "source": [
        "@step\n",
        "def importer() -> Tuple[\n",
        "    Annotated[np.ndarray, \"X_train\"],\n",
        "    Annotated[np.ndarray, \"X_test\"],\n",
        "    Annotated[np.ndarray, \"y_train\"],\n",
        "    Annotated[np.ndarray, \"y_test\"],\n",
        "]:\n",
        "  digits = load_digits()\n",
        "  data = digits.images.reshape((len(digits.images), -1))\n",
        "  X_train, X_test, y_train, y_test = train_test_split(data, digits.target, test_size=0.2, shuffle=False)\n",
        "  return X_train, X_test, y_train, y_test\n",
        "\n",
        "@step\n",
        "def svc_trainer(\n",
        "    X_train: np.ndarray,\n",
        "    y_train: np.ndarray,\n",
        ") -> SVC:\n",
        "  model = SVC(gamma=0.001)\n",
        "  model.fit(X_train, y_train)\n",
        "  return model\n",
        "\n",
        "@step\n",
        "def evaluator(\n",
        "    X_test: np.ndarray,\n",
        "    y_test: np.ndarray,\n",
        "    model: SVC,\n",
        ")-> float:\n",
        "    test_acc = model.score(X_test, y_test)\n",
        "    print(f\"Test accuracy: {test_acc}\")\n",
        "    return test_acc\n",
        "\n"
      ]
    },
    {
      "cell_type": "code",
      "execution_count": 16,
      "metadata": {
        "id": "E51MKBip3OgA"
      },
      "outputs": [],
      "source": [
        "from zenml import pipeline\n",
        "\n",
        "@pipeline\n",
        "def digits_pipeline():\n",
        "  X_train , X_test, y_train, y_test = importer()\n",
        "  model = svc_trainer(X_train=X_train, y_train=y_train)\n",
        "  evaluator(X_test=X_test, y_test=y_test, model=model)\n"
      ]
    },
    {
      "cell_type": "markdown",
      "metadata": {
        "id": "XrHbMFKr9FAI"
      },
      "source": [
        "# Running Zenml Pipelines"
      ]
    },
    {
      "cell_type": "code",
      "execution_count": 17,
      "metadata": {
        "id": "TwBjOL0R9Ub1"
      },
      "outputs": [
        {
          "name": "stdout",
          "output_type": "stream",
          "text": [
            "zsh:1: no matches found: dask[dataframe]\n",
            "Note: you may need to restart the kernel to use updated packages.\n"
          ]
        }
      ],
      "source": [
        "%pip install dask[dataframe]"
      ]
    },
    {
      "cell_type": "code",
      "execution_count": 18,
      "metadata": {
        "id": "Kr93ur2u3Odn"
      },
      "outputs": [
        {
          "name": "stdout",
          "output_type": "stream",
          "text": [
            "\u001b[1;35mInitiating a new run for the pipeline: \u001b[0m\u001b[1;36mdigits_pipeline\u001b[1;35m.\u001b[0m\n",
            "\u001b[1;35mRegistered new pipeline: \u001b[0m\u001b[1;36mdigits_pipeline\u001b[1;35m.\u001b[0m\n",
            "\u001b[1;35mUsing user: \u001b[0m\u001b[1;36mdefault\u001b[1;35m\u001b[0m\n",
            "\u001b[1;35mUsing stack: \u001b[0m\u001b[1;36mdefault\u001b[1;35m\u001b[0m\n",
            "\u001b[1;35m  artifact_store: \u001b[0m\u001b[1;36mdefault\u001b[1;35m\u001b[0m\n",
            "\u001b[1;35m  orchestrator: \u001b[0m\u001b[1;36mdefault\u001b[1;35m\u001b[0m\n",
            "\u001b[1;35mYou can visualize your pipeline runs in the \u001b[0m\u001b[1;36mZenML Dashboard\u001b[1;35m. In order to try it locally, please run \u001b[0m\u001b[1;36mzenml login --local\u001b[1;35m.\u001b[0m\n",
            "\u001b[1;35mStep \u001b[0m\u001b[1;36mimporter\u001b[1;35m has started.\u001b[0m\n",
            "\u001b[33mNo materializer is registered for type \u001b[0m\u001b[1;36m<class 'numpy.ndarray'>\u001b[33m, so the default Pickle materializer was used. Pickle is not production ready and should only be used for prototyping as the artifacts cannot be loaded when running with a different Python version. Please consider implementing a custom materializer for type \u001b[0m\u001b[1;36m<class 'numpy.ndarray'>\u001b[33m according to the instructions at \u001b[0m\u001b[34mhttps://docs.zenml.io/how-to/handle-data-artifacts/handle-custom-data-types\u001b[33m\u001b[0m\n",
            "\u001b[33mNo materializer is registered for type \u001b[0m\u001b[1;36m<class 'numpy.ndarray'>\u001b[33m, so the default Pickle materializer was used. Pickle is not production ready and should only be used for prototyping as the artifacts cannot be loaded when running with a different Python version. Please consider implementing a custom materializer for type \u001b[0m\u001b[1;36m<class 'numpy.ndarray'>\u001b[33m according to the instructions at \u001b[0m\u001b[34mhttps://docs.zenml.io/how-to/handle-data-artifacts/handle-custom-data-types\u001b[33m\u001b[0m\n",
            "\u001b[33mNo materializer is registered for type \u001b[0m\u001b[1;36m<class 'numpy.ndarray'>\u001b[33m, so the default Pickle materializer was used. Pickle is not production ready and should only be used for prototyping as the artifacts cannot be loaded when running with a different Python version. Please consider implementing a custom materializer for type \u001b[0m\u001b[1;36m<class 'numpy.ndarray'>\u001b[33m according to the instructions at \u001b[0m\u001b[34mhttps://docs.zenml.io/how-to/handle-data-artifacts/handle-custom-data-types\u001b[33m\u001b[0m\n",
            "\u001b[33mNo materializer is registered for type \u001b[0m\u001b[1;36m<class 'numpy.ndarray'>\u001b[33m, so the default Pickle materializer was used. Pickle is not production ready and should only be used for prototyping as the artifacts cannot be loaded when running with a different Python version. Please consider implementing a custom materializer for type \u001b[0m\u001b[1;36m<class 'numpy.ndarray'>\u001b[33m according to the instructions at \u001b[0m\u001b[34mhttps://docs.zenml.io/how-to/handle-data-artifacts/handle-custom-data-types\u001b[33m\u001b[0m\n",
            "\u001b[1;35mStep \u001b[0m\u001b[1;36mimporter\u001b[1;35m has finished in \u001b[0m\u001b[1;36m3.193s\u001b[1;35m.\u001b[0m\n",
            "\u001b[1;35mStep \u001b[0m\u001b[1;36msvc_trainer\u001b[1;35m has started.\u001b[0m\n",
            "\u001b[1;35mStep \u001b[0m\u001b[1;36msvc_trainer\u001b[1;35m has finished in \u001b[0m\u001b[1;36m1.018s\u001b[1;35m.\u001b[0m\n",
            "\u001b[1;35mStep \u001b[0m\u001b[1;36mevaluator\u001b[1;35m has started.\u001b[0m\n",
            "Test accuracy: 0.9583333333333334\n",
            "\u001b[1;35mStep \u001b[0m\u001b[1;36mevaluator\u001b[1;35m has finished in \u001b[0m\u001b[1;36m2.079s\u001b[1;35m.\u001b[0m\n",
            "\u001b[1;35mPipeline run has finished in \u001b[0m\u001b[1;36m7.234s\u001b[1;35m.\u001b[0m\n"
          ]
        }
      ],
      "source": [
        "digits_svc_pipeline = digits_pipeline()"
      ]
    },
    {
      "cell_type": "code",
      "execution_count": 20,
      "metadata": {
        "id": "-XXHBly79DmC"
      },
      "outputs": [
        {
          "name": "stdout",
          "output_type": "stream",
          "text": [
            "\u001b[33mThe `zenml up` command is deprecated and will be removed in a future release. \u001b[0m\n",
            "\u001b[33mPlease use the `zenml login --local` command instead.\u001b[0m\n",
            "\u001b[2;36mCalling `zenml login --local`\u001b[0m\u001b[2;33m...\u001b[0m\n",
            "\u001b[1;35mDeploying a local daemon ZenML server.\u001b[0m\n",
            "\u001b[?25l\u001b[32m⠋\u001b[0m Starting service 'DaemonZenServer[2a0ebc80-a921-40e0-8f6e-b82e6ab5383d] (type:\n",
            "zen_server, flavor: daemon)'.\n",
            "\u001b[2K\u001b[1A\u001b[2K\u001b[1A\u001b[2K\u001b[32m⠙\u001b[0m Starting service 'DaemonZenServer[2a0ebc80-a921-40e0-8f6e-b82e6ab5383d] (type:\n",
            "zen_server, flavor: daemon)'.\n",
            "\u001b[2K\u001b[1A\u001b[2K\u001b[1A\u001b[2K\u001b[32m⠹\u001b[0m Starting service 'DaemonZenServer[2a0ebc80-a921-40e0-8f6e-b82e6ab5383d] (type:\n",
            "zen_server, flavor: daemon)'.\n",
            "\u001b[2K\u001b[1A\u001b[2K\u001b[1A\u001b[2K\u001b[32m⠸\u001b[0m Starting service 'DaemonZenServer[2a0ebc80-a921-40e0-8f6e-b82e6ab5383d] (type:\n",
            "zen_server, flavor: daemon)'.\n",
            "\u001b[2K\u001b[1A\u001b[2K\u001b[1A\u001b[2K\u001b[32m⠼\u001b[0m Starting service 'DaemonZenServer[2a0ebc80-a921-40e0-8f6e-b82e6ab5383d] (type:\n",
            "zen_server, flavor: daemon)'.\n",
            "\u001b[2K\u001b[1A\u001b[2K\u001b[1A\u001b[2K\u001b[32m⠴\u001b[0m Starting service 'DaemonZenServer[2a0ebc80-a921-40e0-8f6e-b82e6ab5383d] (type:\n",
            "zen_server, flavor: daemon)'.\n",
            "\u001b[2K\u001b[1A\u001b[2K\u001b[1A\u001b[2K\u001b[32m⠦\u001b[0m Starting service 'DaemonZenServer[2a0ebc80-a921-40e0-8f6e-b82e6ab5383d] (type:\n",
            "zen_server, flavor: daemon)'.\n",
            "\u001b[2K\u001b[1A\u001b[2K\u001b[1A\u001b[2K\u001b[32m⠧\u001b[0m Starting service 'DaemonZenServer[2a0ebc80-a921-40e0-8f6e-b82e6ab5383d] (type:\n",
            "zen_server, flavor: daemon)'.\n",
            "\u001b[2K\u001b[1A\u001b[2K\u001b[1A\u001b[2K\u001b[32m⠇\u001b[0m Starting service 'DaemonZenServer[2a0ebc80-a921-40e0-8f6e-b82e6ab5383d] (type:\n",
            "zen_server, flavor: daemon)'.\n",
            "\u001b[2K\u001b[1A\u001b[2K\u001b[1A\u001b[2K\u001b[32m⠏\u001b[0m Starting service 'DaemonZenServer[2a0ebc80-a921-40e0-8f6e-b82e6ab5383d] (type:\n",
            "zen_server, flavor: daemon)'.\n",
            "\u001b[2K\u001b[1A\u001b[2K\u001b[1A\u001b[2K\u001b[32m⠋\u001b[0m Starting service 'DaemonZenServer[2a0ebc80-a921-40e0-8f6e-b82e6ab5383d] (type:\n",
            "zen_server, flavor: daemon)'.\n",
            "\u001b[2K\u001b[1A\u001b[2K\u001b[1A\u001b[2K\u001b[32m⠙\u001b[0m Starting service 'DaemonZenServer[2a0ebc80-a921-40e0-8f6e-b82e6ab5383d] (type:\n",
            "zen_server, flavor: daemon)'.\n",
            "\u001b[2K\u001b[1A\u001b[2K\u001b[1A\u001b[2K\u001b[32m⠹\u001b[0m Starting service 'DaemonZenServer[2a0ebc80-a921-40e0-8f6e-b82e6ab5383d] (type:\n",
            "zen_server, flavor: daemon)'.\n",
            "\u001b[2K\u001b[1A\u001b[2K\u001b[1A\u001b[2K\u001b[32m⠸\u001b[0m Starting service 'DaemonZenServer[2a0ebc80-a921-40e0-8f6e-b82e6ab5383d] (type:\n",
            "zen_server, flavor: daemon)'.\n",
            "\u001b[2K\u001b[1A\u001b[2K\u001b[1A\u001b[2K\u001b[32m⠼\u001b[0m Starting service 'DaemonZenServer[2a0ebc80-a921-40e0-8f6e-b82e6ab5383d] (type:\n",
            "zen_server, flavor: daemon)'.\n",
            "\u001b[2K\u001b[1A\u001b[2K\u001b[1A\u001b[2K\u001b[32m⠴\u001b[0m Starting service 'DaemonZenServer[2a0ebc80-a921-40e0-8f6e-b82e6ab5383d] (type:\n",
            "zen_server, flavor: daemon)'.\n",
            "\u001b[2K\u001b[1A\u001b[2K\u001b[1A\u001b[2K\u001b[32m⠦\u001b[0m Starting service 'DaemonZenServer[2a0ebc80-a921-40e0-8f6e-b82e6ab5383d] (type:\n",
            "zen_server, flavor: daemon)'.\n",
            "\u001b[2K\u001b[1A\u001b[2K\u001b[1A\u001b[2K\u001b[32m⠧\u001b[0m Starting service 'DaemonZenServer[2a0ebc80-a921-40e0-8f6e-b82e6ab5383d] (type:\n",
            "zen_server, flavor: daemon)'.\n",
            "\u001b[2K\u001b[1A\u001b[2K\u001b[1A\u001b[2K\u001b[32m⠇\u001b[0m Starting service 'DaemonZenServer[2a0ebc80-a921-40e0-8f6e-b82e6ab5383d] (type:\n",
            "zen_server, flavor: daemon)'.\n",
            "\u001b[2K\u001b[1A\u001b[2K\u001b[1A\u001b[2K\u001b[32m⠏\u001b[0m Starting service 'DaemonZenServer[2a0ebc80-a921-40e0-8f6e-b82e6ab5383d] (type:\n",
            "zen_server, flavor: daemon)'.\n",
            "\u001b[2K\u001b[1A\u001b[2K\u001b[1A\u001b[2K\u001b[32m⠋\u001b[0m Starting service 'DaemonZenServer[2a0ebc80-a921-40e0-8f6e-b82e6ab5383d] (type:\n",
            "zen_server, flavor: daemon)'.\n",
            "\u001b[2K\u001b[1A\u001b[2K\u001b[1A\u001b[2K\u001b[32m⠙\u001b[0m Starting service 'DaemonZenServer[2a0ebc80-a921-40e0-8f6e-b82e6ab5383d] (type:\n",
            "zen_server, flavor: daemon)'.\n",
            "\u001b[2K\u001b[1A\u001b[2K\u001b[1A\u001b[2K\u001b[32m⠹\u001b[0m Starting service 'DaemonZenServer[2a0ebc80-a921-40e0-8f6e-b82e6ab5383d] (type:\n",
            "zen_server, flavor: daemon)'.\n",
            "\u001b[2K\u001b[1A\u001b[2K\u001b[1A\u001b[2K\u001b[32m⠸\u001b[0m Starting service 'DaemonZenServer[2a0ebc80-a921-40e0-8f6e-b82e6ab5383d] (type:\n",
            "zen_server, flavor: daemon)'.\n",
            "\u001b[2K\u001b[1A\u001b[2K\u001b[1A\u001b[2K\u001b[32m⠼\u001b[0m Starting service 'DaemonZenServer[2a0ebc80-a921-40e0-8f6e-b82e6ab5383d] (type:\n",
            "zen_server, flavor: daemon)'.\n",
            "\u001b[2K\u001b[1A\u001b[2K\u001b[1A\u001b[2K\u001b[32m⠴\u001b[0m Starting service 'DaemonZenServer[2a0ebc80-a921-40e0-8f6e-b82e6ab5383d] (type:\n",
            "zen_server, flavor: daemon)'.\n",
            "\u001b[2K\u001b[1A\u001b[2K\u001b[1A\u001b[2K\u001b[32m⠦\u001b[0m Starting service 'DaemonZenServer[2a0ebc80-a921-40e0-8f6e-b82e6ab5383d] (type:\n",
            "zen_server, flavor: daemon)'.\n",
            "\u001b[2K\u001b[1A\u001b[2K\u001b[1A\u001b[2K\u001b[32m⠧\u001b[0m Starting service 'DaemonZenServer[2a0ebc80-a921-40e0-8f6e-b82e6ab5383d] (type:\n",
            "zen_server, flavor: daemon)'.\n",
            "\u001b[2K\u001b[1A\u001b[2K\u001b[1A\u001b[2K\u001b[32m⠇\u001b[0m Starting service 'DaemonZenServer[2a0ebc80-a921-40e0-8f6e-b82e6ab5383d] (type:\n",
            "zen_server, flavor: daemon)'.\n",
            "\u001b[2K\u001b[1A\u001b[2K\u001b[1A\u001b[2K\u001b[32m⠏\u001b[0m Starting service 'DaemonZenServer[2a0ebc80-a921-40e0-8f6e-b82e6ab5383d] (type:\n",
            "zen_server, flavor: daemon)'.\n",
            "\u001b[2K\u001b[1A\u001b[2K\u001b[1A\u001b[2K\u001b[32m⠋\u001b[0m Starting service 'DaemonZenServer[2a0ebc80-a921-40e0-8f6e-b82e6ab5383d] (type:\n",
            "zen_server, flavor: daemon)'.\n",
            "\u001b[2K\u001b[1A\u001b[2K\u001b[1A\u001b[2K\u001b[32m⠙\u001b[0m Starting service 'DaemonZenServer[2a0ebc80-a921-40e0-8f6e-b82e6ab5383d] (type:\n",
            "zen_server, flavor: daemon)'.\n",
            "\u001b[2K\u001b[1A\u001b[2K\u001b[1A\u001b[2K\u001b[32m⠹\u001b[0m Starting service 'DaemonZenServer[2a0ebc80-a921-40e0-8f6e-b82e6ab5383d] (type:\n",
            "zen_server, flavor: daemon)'.\n",
            "\u001b[2K\u001b[1A\u001b[2K\u001b[1A\u001b[2K\u001b[32m⠸\u001b[0m Starting service 'DaemonZenServer[2a0ebc80-a921-40e0-8f6e-b82e6ab5383d] (type:\n",
            "zen_server, flavor: daemon)'.\n",
            "\u001b[2K\u001b[1A\u001b[2K\u001b[1A\u001b[2K\u001b[32m⠼\u001b[0m Starting service 'DaemonZenServer[2a0ebc80-a921-40e0-8f6e-b82e6ab5383d] (type:\n",
            "zen_server, flavor: daemon)'.\n",
            "\u001b[2K\u001b[1A\u001b[2K\u001b[1A\u001b[2K\u001b[32m⠴\u001b[0m Starting service 'DaemonZenServer[2a0ebc80-a921-40e0-8f6e-b82e6ab5383d] (type:\n",
            "zen_server, flavor: daemon)'.\n",
            "\u001b[2K\u001b[1A\u001b[2K\u001b[1A\u001b[2K\u001b[32m⠦\u001b[0m Starting service 'DaemonZenServer[2a0ebc80-a921-40e0-8f6e-b82e6ab5383d] (type:\n",
            "zen_server, flavor: daemon)'.\n",
            "\u001b[2K\u001b[1A\u001b[2K\u001b[1A\u001b[2K\u001b[32m⠧\u001b[0m Starting service 'DaemonZenServer[2a0ebc80-a921-40e0-8f6e-b82e6ab5383d] (type:\n",
            "zen_server, flavor: daemon)'.\n",
            "\u001b[2K\u001b[1A\u001b[2K\u001b[1A\u001b[2K\u001b[32m⠇\u001b[0m Starting service 'DaemonZenServer[2a0ebc80-a921-40e0-8f6e-b82e6ab5383d] (type:\n",
            "zen_server, flavor: daemon)'.\n",
            "\u001b[2K\u001b[1A\u001b[2K\u001b[1A\u001b[2K\u001b[32m⠏\u001b[0m Starting service 'DaemonZenServer[2a0ebc80-a921-40e0-8f6e-b82e6ab5383d] (type:\n",
            "zen_server, flavor: daemon)'.\n",
            "\u001b[2K\u001b[1A\u001b[2K\u001b[1A\u001b[2K\u001b[32m⠋\u001b[0m Starting service 'DaemonZenServer[2a0ebc80-a921-40e0-8f6e-b82e6ab5383d] (type:\n",
            "zen_server, flavor: daemon)'.\n",
            "\u001b[2K\u001b[1A\u001b[2K\u001b[1A\u001b[2K\u001b[32m⠙\u001b[0m Starting service 'DaemonZenServer[2a0ebc80-a921-40e0-8f6e-b82e6ab5383d] (type:\n",
            "zen_server, flavor: daemon)'.\n",
            "\u001b[2K\u001b[1A\u001b[2K\u001b[1A\u001b[2K\u001b[32m⠹\u001b[0m Starting service 'DaemonZenServer[2a0ebc80-a921-40e0-8f6e-b82e6ab5383d] (type:\n",
            "zen_server, flavor: daemon)'.\n",
            "\u001b[2K\u001b[1A\u001b[2K\u001b[1A\u001b[2K\u001b[32m⠸\u001b[0m Starting service 'DaemonZenServer[2a0ebc80-a921-40e0-8f6e-b82e6ab5383d] (type:\n",
            "zen_server, flavor: daemon)'.\n",
            "\u001b[2K\u001b[1A\u001b[2K\u001b[1A\u001b[2K\u001b[32m⠼\u001b[0m Starting service 'DaemonZenServer[2a0ebc80-a921-40e0-8f6e-b82e6ab5383d] (type:\n",
            "zen_server, flavor: daemon)'.\n",
            "\u001b[2K\u001b[1A\u001b[2K\u001b[1A\u001b[2K\u001b[32m⠴\u001b[0m Starting service 'DaemonZenServer[2a0ebc80-a921-40e0-8f6e-b82e6ab5383d] (type:\n",
            "zen_server, flavor: daemon)'.\n",
            "\u001b[2K\u001b[1A\u001b[2K\u001b[1A\u001b[2K\u001b[32m⠦\u001b[0m Starting service 'DaemonZenServer[2a0ebc80-a921-40e0-8f6e-b82e6ab5383d] (type:\n",
            "zen_server, flavor: daemon)'.\n",
            "\u001b[2K\u001b[1A\u001b[2K\u001b[1A\u001b[2K\u001b[32m⠧\u001b[0m Starting service 'DaemonZenServer[2a0ebc80-a921-40e0-8f6e-b82e6ab5383d] (type:\n",
            "zen_server, flavor: daemon)'.\n",
            "\u001b[2K\u001b[1A\u001b[2K\u001b[1A\u001b[2K\u001b[32m⠇\u001b[0m Starting service 'DaemonZenServer[2a0ebc80-a921-40e0-8f6e-b82e6ab5383d] (type:\n",
            "zen_server, flavor: daemon)'.\n",
            "\u001b[2K\u001b[1A\u001b[2K\u001b[1A\u001b[2K\u001b[32m⠏\u001b[0m Starting service 'DaemonZenServer[2a0ebc80-a921-40e0-8f6e-b82e6ab5383d] (type:\n",
            "zen_server, flavor: daemon)'.\n",
            "\u001b[2K\u001b[1A\u001b[2K\u001b[1A\u001b[2K\u001b[32m⠋\u001b[0m Starting service 'DaemonZenServer[2a0ebc80-a921-40e0-8f6e-b82e6ab5383d] (type:\n",
            "zen_server, flavor: daemon)'.\n",
            "\u001b[2K\u001b[1A\u001b[2K\u001b[1A\u001b[2K\u001b[32m⠙\u001b[0m Starting service 'DaemonZenServer[2a0ebc80-a921-40e0-8f6e-b82e6ab5383d] (type:\n",
            "zen_server, flavor: daemon)'.\n",
            "\u001b[2K\u001b[1A\u001b[2K\u001b[1A\u001b[2K\u001b[32m⠹\u001b[0m Starting service 'DaemonZenServer[2a0ebc80-a921-40e0-8f6e-b82e6ab5383d] (type:\n",
            "zen_server, flavor: daemon)'.\n",
            "\u001b[2K\u001b[1A\u001b[2K\u001b[1A\u001b[2K\u001b[32m⠸\u001b[0m Starting service 'DaemonZenServer[2a0ebc80-a921-40e0-8f6e-b82e6ab5383d] (type:\n",
            "zen_server, flavor: daemon)'.\n",
            "\u001b[2K\u001b[1A\u001b[2K\u001b[1A\u001b[2K\u001b[32m⠼\u001b[0m Starting service 'DaemonZenServer[2a0ebc80-a921-40e0-8f6e-b82e6ab5383d] (type:\n",
            "zen_server, flavor: daemon)'.\n",
            "\u001b[2K\u001b[1A\u001b[2K\u001b[1A\u001b[2K\u001b[32m⠴\u001b[0m Starting service 'DaemonZenServer[2a0ebc80-a921-40e0-8f6e-b82e6ab5383d] (type:\n",
            "zen_server, flavor: daemon)'.\n",
            "\u001b[2K\u001b[1A\u001b[2K\u001b[1A\u001b[2K\u001b[32m⠦\u001b[0m Starting service 'DaemonZenServer[2a0ebc80-a921-40e0-8f6e-b82e6ab5383d] (type:\n",
            "zen_server, flavor: daemon)'.\n",
            "\u001b[2K\u001b[1A\u001b[2K\u001b[1A\u001b[2K\u001b[32m⠧\u001b[0m Starting service 'DaemonZenServer[2a0ebc80-a921-40e0-8f6e-b82e6ab5383d] (type:\n",
            "zen_server, flavor: daemon)'.\n",
            "\u001b[2K\u001b[1A\u001b[2K\u001b[1A\u001b[2K\u001b[32m⠇\u001b[0m Starting service 'DaemonZenServer[2a0ebc80-a921-40e0-8f6e-b82e6ab5383d] (type:\n",
            "zen_server, flavor: daemon)'.\n",
            "\u001b[2K\u001b[1A\u001b[2K\u001b[1A\u001b[2K\u001b[32m⠏\u001b[0m Starting service 'DaemonZenServer[2a0ebc80-a921-40e0-8f6e-b82e6ab5383d] (type:\n",
            "zen_server, flavor: daemon)'.\n",
            "\u001b[2K\u001b[1A\u001b[2K\u001b[1A\u001b[2K\u001b[32m⠋\u001b[0m Starting service 'DaemonZenServer[2a0ebc80-a921-40e0-8f6e-b82e6ab5383d] (type:\n",
            "zen_server, flavor: daemon)'.\n",
            "\u001b[2K\u001b[1A\u001b[2K\u001b[1A\u001b[2K\u001b[32m⠙\u001b[0m Starting service 'DaemonZenServer[2a0ebc80-a921-40e0-8f6e-b82e6ab5383d] (type:\n",
            "zen_server, flavor: daemon)'.\n",
            "\u001b[2K\u001b[1A\u001b[2K\u001b[1A\u001b[2K\u001b[32m⠸\u001b[0m Starting service 'DaemonZenServer[2a0ebc80-a921-40e0-8f6e-b82e6ab5383d] (type:\n",
            "zen_server, flavor: daemon)'.\n",
            "\u001b[2K\u001b[1A\u001b[2K\u001b[1A\u001b[2K\u001b[32m⠼\u001b[0m Starting service 'DaemonZenServer[2a0ebc80-a921-40e0-8f6e-b82e6ab5383d] (type:\n",
            "zen_server, flavor: daemon)'.\n",
            "\u001b[2K\u001b[1A\u001b[2K\u001b[1A\u001b[2K\u001b[32m⠴\u001b[0m Starting service 'DaemonZenServer[2a0ebc80-a921-40e0-8f6e-b82e6ab5383d] (type:\n",
            "zen_server, flavor: daemon)'.\n",
            "\u001b[2K\u001b[1A\u001b[2K\u001b[1A\u001b[2K\u001b[32m⠦\u001b[0m Starting service 'DaemonZenServer[2a0ebc80-a921-40e0-8f6e-b82e6ab5383d] (type:\n",
            "zen_server, flavor: daemon)'.\n",
            "\u001b[2K\u001b[1A\u001b[2K\u001b[1A\u001b[2K\u001b[32m⠧\u001b[0m Starting service 'DaemonZenServer[2a0ebc80-a921-40e0-8f6e-b82e6ab5383d] (type:\n",
            "zen_server, flavor: daemon)'.\n",
            "\u001b[2K\u001b[1A\u001b[2K\u001b[1A\u001b[2K\u001b[32m⠇\u001b[0m Starting service 'DaemonZenServer[2a0ebc80-a921-40e0-8f6e-b82e6ab5383d] (type:\n",
            "zen_server, flavor: daemon)'.\n",
            "\u001b[2K\u001b[1A\u001b[2K\u001b[1A\u001b[2K\u001b[32m⠏\u001b[0m Starting service 'DaemonZenServer[2a0ebc80-a921-40e0-8f6e-b82e6ab5383d] (type:\n",
            "zen_server, flavor: daemon)'.\n",
            "\u001b[2K\u001b[1A\u001b[2K\u001b[1A\u001b[2K\u001b[32m⠋\u001b[0m Starting service 'DaemonZenServer[2a0ebc80-a921-40e0-8f6e-b82e6ab5383d] (type:\n",
            "zen_server, flavor: daemon)'.\n",
            "\u001b[2K\u001b[1A\u001b[2K\u001b[1A\u001b[2K\u001b[32m⠙\u001b[0m Starting service 'DaemonZenServer[2a0ebc80-a921-40e0-8f6e-b82e6ab5383d] (type:\n",
            "zen_server, flavor: daemon)'.\n",
            "\u001b[2K\u001b[1A\u001b[2K\u001b[1A\u001b[2K\u001b[32m⠹\u001b[0m Starting service 'DaemonZenServer[2a0ebc80-a921-40e0-8f6e-b82e6ab5383d] (type:\n",
            "zen_server, flavor: daemon)'.\n",
            "\u001b[2K\u001b[1A\u001b[2K\u001b[1A\u001b[2K\u001b[32m⠸\u001b[0m Starting service 'DaemonZenServer[2a0ebc80-a921-40e0-8f6e-b82e6ab5383d] (type:\n",
            "zen_server, flavor: daemon)'.\n",
            "\u001b[2K\u001b[1A\u001b[2K\u001b[1A\u001b[2K\u001b[32m⠼\u001b[0m Starting service 'DaemonZenServer[2a0ebc80-a921-40e0-8f6e-b82e6ab5383d] (type:\n",
            "zen_server, flavor: daemon)'.\n",
            "\u001b[2K\u001b[1A\u001b[2K\u001b[1A\u001b[2K\u001b[32m⠴\u001b[0m Starting service 'DaemonZenServer[2a0ebc80-a921-40e0-8f6e-b82e6ab5383d] (type:\n",
            "zen_server, flavor: daemon)'.\n",
            "\u001b[2K\u001b[1A\u001b[2K\u001b[1A\u001b[2K\u001b[32m⠦\u001b[0m Starting service 'DaemonZenServer[2a0ebc80-a921-40e0-8f6e-b82e6ab5383d] (type:\n",
            "zen_server, flavor: daemon)'.\n",
            "\u001b[2K\u001b[1A\u001b[2K\u001b[1A\u001b[2K\u001b[32m⠧\u001b[0m Starting service 'DaemonZenServer[2a0ebc80-a921-40e0-8f6e-b82e6ab5383d] (type:\n",
            "zen_server, flavor: daemon)'.\n",
            "\u001b[2K\u001b[1A\u001b[2K\u001b[1A\u001b[2K\u001b[32m⠇\u001b[0m Starting service 'DaemonZenServer[2a0ebc80-a921-40e0-8f6e-b82e6ab5383d] (type:\n",
            "zen_server, flavor: daemon)'.\n",
            "\u001b[2K\u001b[1A\u001b[2K\u001b[1A\u001b[2K\u001b[32m⠏\u001b[0m Starting service 'DaemonZenServer[2a0ebc80-a921-40e0-8f6e-b82e6ab5383d] (type:\n",
            "zen_server, flavor: daemon)'.\n",
            "\u001b[2K\u001b[1A\u001b[2K\u001b[1A\u001b[2K\u001b[32m⠋\u001b[0m Starting service 'DaemonZenServer[2a0ebc80-a921-40e0-8f6e-b82e6ab5383d] (type:\n",
            "zen_server, flavor: daemon)'.\n",
            "\u001b[2K\u001b[1A\u001b[2K\u001b[1A\u001b[2K\u001b[32m⠙\u001b[0m Starting service 'DaemonZenServer[2a0ebc80-a921-40e0-8f6e-b82e6ab5383d] (type:\n",
            "zen_server, flavor: daemon)'.\n",
            "\u001b[2K\u001b[1A\u001b[2K\u001b[1A\u001b[2K\u001b[32m⠹\u001b[0m Starting service 'DaemonZenServer[2a0ebc80-a921-40e0-8f6e-b82e6ab5383d] (type:\n",
            "zen_server, flavor: daemon)'.\n",
            "\u001b[2K\u001b[1A\u001b[2K\u001b[1A\u001b[2K\u001b[32m⠸\u001b[0m Starting service 'DaemonZenServer[2a0ebc80-a921-40e0-8f6e-b82e6ab5383d] (type:\n",
            "zen_server, flavor: daemon)'.\n",
            "\u001b[2K\u001b[1A\u001b[2K\u001b[1A\u001b[2K\u001b[32m⠼\u001b[0m Starting service 'DaemonZenServer[2a0ebc80-a921-40e0-8f6e-b82e6ab5383d] (type:\n",
            "zen_server, flavor: daemon)'.\n",
            "\u001b[2K\u001b[1A\u001b[2K\u001b[1A\u001b[2K\u001b[32m⠴\u001b[0m Starting service 'DaemonZenServer[2a0ebc80-a921-40e0-8f6e-b82e6ab5383d] (type:\n",
            "zen_server, flavor: daemon)'.\n",
            "\u001b[2K\u001b[1A\u001b[2K\u001b[1A\u001b[2K\u001b[32m⠦\u001b[0m Starting service 'DaemonZenServer[2a0ebc80-a921-40e0-8f6e-b82e6ab5383d] (type:\n",
            "zen_server, flavor: daemon)'.\n",
            "\u001b[2K\u001b[1A\u001b[2K\u001b[1A\u001b[2K\u001b[32m⠧\u001b[0m Starting service 'DaemonZenServer[2a0ebc80-a921-40e0-8f6e-b82e6ab5383d] (type:\n",
            "zen_server, flavor: daemon)'.\n",
            "\u001b[2K\u001b[1A\u001b[2K\u001b[1A\u001b[2K\u001b[32m⠇\u001b[0m Starting service 'DaemonZenServer[2a0ebc80-a921-40e0-8f6e-b82e6ab5383d] (type:\n",
            "zen_server, flavor: daemon)'.\n",
            "\u001b[2K\u001b[1A\u001b[2K\u001b[1A\u001b[2K\u001b[32m⠏\u001b[0m Starting service 'DaemonZenServer[2a0ebc80-a921-40e0-8f6e-b82e6ab5383d] (type:\n",
            "zen_server, flavor: daemon)'.\n",
            "\u001b[2K\u001b[1A\u001b[2K\u001b[1A\u001b[2K\u001b[32m⠋\u001b[0m Starting service 'DaemonZenServer[2a0ebc80-a921-40e0-8f6e-b82e6ab5383d] (type:\n",
            "zen_server, flavor: daemon)'.\n",
            "\u001b[2K\u001b[1A\u001b[2K\u001b[1A\u001b[2K\u001b[32m⠙\u001b[0m Starting service 'DaemonZenServer[2a0ebc80-a921-40e0-8f6e-b82e6ab5383d] (type:\n",
            "zen_server, flavor: daemon)'.\n",
            "\u001b[2K\u001b[1A\u001b[2K\u001b[1A\u001b[2K\u001b[32m⠹\u001b[0m Starting service 'DaemonZenServer[2a0ebc80-a921-40e0-8f6e-b82e6ab5383d] (type:\n",
            "zen_server, flavor: daemon)'.\n",
            "\u001b[2K\u001b[1A\u001b[2K\u001b[1A\u001b[2K\u001b[32m⠸\u001b[0m Starting service 'DaemonZenServer[2a0ebc80-a921-40e0-8f6e-b82e6ab5383d] (type:\n",
            "zen_server, flavor: daemon)'.\n",
            "\u001b[2K\u001b[1A\u001b[2K\u001b[1A\u001b[2K\u001b[32m⠼\u001b[0m Starting service 'DaemonZenServer[2a0ebc80-a921-40e0-8f6e-b82e6ab5383d] (type:\n",
            "zen_server, flavor: daemon)'.\n",
            "\u001b[2K\u001b[1A\u001b[2K\u001b[1A\u001b[2K\u001b[32m⠴\u001b[0m Starting service 'DaemonZenServer[2a0ebc80-a921-40e0-8f6e-b82e6ab5383d] (type:\n",
            "zen_server, flavor: daemon)'.\n",
            "\u001b[2K\u001b[1A\u001b[2K\u001b[1A\u001b[2K\u001b[32m⠦\u001b[0m Starting service 'DaemonZenServer[2a0ebc80-a921-40e0-8f6e-b82e6ab5383d] (type:\n",
            "zen_server, flavor: daemon)'.\n",
            "\u001b[2K\u001b[1A\u001b[2K\u001b[1A\u001b[2K\u001b[32m⠧\u001b[0m Starting service 'DaemonZenServer[2a0ebc80-a921-40e0-8f6e-b82e6ab5383d] (type:\n",
            "zen_server, flavor: daemon)'.\n",
            "\u001b[2K\u001b[1A\u001b[2K\u001b[1A\u001b[2K\u001b[32m⠇\u001b[0m Starting service 'DaemonZenServer[2a0ebc80-a921-40e0-8f6e-b82e6ab5383d] (type:\n",
            "zen_server, flavor: daemon)'.\n",
            "\u001b[2K\u001b[1A\u001b[2K\u001b[1A\u001b[2K\u001b[32m⠏\u001b[0m Starting service 'DaemonZenServer[2a0ebc80-a921-40e0-8f6e-b82e6ab5383d] (type:\n",
            "zen_server, flavor: daemon)'.\n",
            "\u001b[2K\u001b[1A\u001b[2K\u001b[1A\u001b[2K\u001b[32m⠋\u001b[0m Starting service 'DaemonZenServer[2a0ebc80-a921-40e0-8f6e-b82e6ab5383d] (type:\n",
            "zen_server, flavor: daemon)'.\n",
            "\u001b[2K\u001b[1A\u001b[2K\u001b[1A\u001b[2K\u001b[32m⠙\u001b[0m Starting service 'DaemonZenServer[2a0ebc80-a921-40e0-8f6e-b82e6ab5383d] (type:\n",
            "zen_server, flavor: daemon)'.\n",
            "\u001b[2K\u001b[1A\u001b[2K\u001b[1A\u001b[2K\u001b[32m⠹\u001b[0m Starting service 'DaemonZenServer[2a0ebc80-a921-40e0-8f6e-b82e6ab5383d] (type:\n",
            "zen_server, flavor: daemon)'.\n",
            "\u001b[2K\u001b[1A\u001b[2K\u001b[1A\u001b[2K\u001b[32m⠸\u001b[0m Starting service 'DaemonZenServer[2a0ebc80-a921-40e0-8f6e-b82e6ab5383d] (type:\n",
            "zen_server, flavor: daemon)'.\n",
            "\u001b[2K\u001b[1A\u001b[2K\u001b[1A\u001b[2K\u001b[32m⠼\u001b[0m Starting service 'DaemonZenServer[2a0ebc80-a921-40e0-8f6e-b82e6ab5383d] (type:\n",
            "zen_server, flavor: daemon)'.\n",
            "\u001b[2K\u001b[1A\u001b[2K\u001b[1A\u001b[2K\u001b[32m⠴\u001b[0m Starting service 'DaemonZenServer[2a0ebc80-a921-40e0-8f6e-b82e6ab5383d] (type:\n",
            "zen_server, flavor: daemon)'.\n",
            "\u001b[2K\u001b[1A\u001b[2K\u001b[1A\u001b[2K\u001b[32m⠦\u001b[0m Starting service 'DaemonZenServer[2a0ebc80-a921-40e0-8f6e-b82e6ab5383d] (type:\n",
            "zen_server, flavor: daemon)'.\n",
            "\u001b[2K\u001b[1A\u001b[2K\u001b[1A\u001b[2K\u001b[32m⠧\u001b[0m Starting service 'DaemonZenServer[2a0ebc80-a921-40e0-8f6e-b82e6ab5383d] (type:\n",
            "zen_server, flavor: daemon)'.\n",
            "\u001b[2K\u001b[1A\u001b[2K\u001b[1A\u001b[2K\u001b[32m⠇\u001b[0m Starting service 'DaemonZenServer[2a0ebc80-a921-40e0-8f6e-b82e6ab5383d] (type:\n",
            "zen_server, flavor: daemon)'.\n",
            "\u001b[2K\u001b[1A\u001b[2K\u001b[1A\u001b[2K\u001b[32m⠏\u001b[0m Starting service 'DaemonZenServer[2a0ebc80-a921-40e0-8f6e-b82e6ab5383d] (type:\n",
            "zen_server, flavor: daemon)'.\n",
            "\u001b[2K\u001b[1A\u001b[2K\u001b[1A\u001b[2K\u001b[32m⠋\u001b[0m Starting service 'DaemonZenServer[2a0ebc80-a921-40e0-8f6e-b82e6ab5383d] (type:\n",
            "zen_server, flavor: daemon)'.\n",
            "\u001b[2K\u001b[1A\u001b[2K\u001b[1A\u001b[2K\u001b[32m⠙\u001b[0m Starting service 'DaemonZenServer[2a0ebc80-a921-40e0-8f6e-b82e6ab5383d] (type:\n",
            "zen_server, flavor: daemon)'.\n",
            "\u001b[2K\u001b[1A\u001b[2K\u001b[1A\u001b[2K\u001b[32m⠹\u001b[0m Starting service 'DaemonZenServer[2a0ebc80-a921-40e0-8f6e-b82e6ab5383d] (type:\n",
            "zen_server, flavor: daemon)'.\n",
            "\u001b[2K\u001b[1A\u001b[2K\u001b[1A\u001b[2K\u001b[32m⠼\u001b[0m Starting service 'DaemonZenServer[2a0ebc80-a921-40e0-8f6e-b82e6ab5383d] (type:\n",
            "zen_server, flavor: daemon)'.\n",
            "\u001b[2K\u001b[1A\u001b[2K\u001b[1A\u001b[2K\u001b[32m⠴\u001b[0m Starting service 'DaemonZenServer[2a0ebc80-a921-40e0-8f6e-b82e6ab5383d] (type:\n",
            "zen_server, flavor: daemon)'.\n",
            "\u001b[2K\u001b[1A\u001b[2K\u001b[1A\u001b[2K\u001b[32m⠦\u001b[0m Starting service 'DaemonZenServer[2a0ebc80-a921-40e0-8f6e-b82e6ab5383d] (type:\n",
            "zen_server, flavor: daemon)'.\n",
            "\u001b[2K\u001b[1A\u001b[2K\u001b[1A\u001b[2K\u001b[32m⠧\u001b[0m Starting service 'DaemonZenServer[2a0ebc80-a921-40e0-8f6e-b82e6ab5383d] (type:\n",
            "zen_server, flavor: daemon)'.\n",
            "\u001b[2K\u001b[1A\u001b[2K\u001b[1A\u001b[2K\u001b[32m⠇\u001b[0m Starting service 'DaemonZenServer[2a0ebc80-a921-40e0-8f6e-b82e6ab5383d] (type:\n",
            "zen_server, flavor: daemon)'.\n",
            "\u001b[2K\u001b[1A\u001b[2K\u001b[1A\u001b[2K\u001b[32m⠏\u001b[0m Starting service 'DaemonZenServer[2a0ebc80-a921-40e0-8f6e-b82e6ab5383d] (type:\n",
            "zen_server, flavor: daemon)'.\n",
            "\u001b[2K\u001b[1A\u001b[2K\u001b[1A\u001b[2K\u001b[32m⠋\u001b[0m Starting service 'DaemonZenServer[2a0ebc80-a921-40e0-8f6e-b82e6ab5383d] (type:\n",
            "zen_server, flavor: daemon)'.\n",
            "\u001b[2K\u001b[1A\u001b[2K\u001b[1A\u001b[2K\u001b[32m⠙\u001b[0m Starting service 'DaemonZenServer[2a0ebc80-a921-40e0-8f6e-b82e6ab5383d] (type:\n",
            "zen_server, flavor: daemon)'.\n",
            "\u001b[2K\u001b[1A\u001b[2K\u001b[1A\u001b[2K\u001b[32m⠹\u001b[0m Starting service 'DaemonZenServer[2a0ebc80-a921-40e0-8f6e-b82e6ab5383d] (type:\n",
            "zen_server, flavor: daemon)'.\n",
            "\u001b[2K\u001b[1A\u001b[2K\u001b[1A\u001b[2K\u001b[32m⠸\u001b[0m Starting service 'DaemonZenServer[2a0ebc80-a921-40e0-8f6e-b82e6ab5383d] (type:\n",
            "zen_server, flavor: daemon)'.\n",
            "\u001b[2K\u001b[1A\u001b[2K\u001b[1A\u001b[2K\u001b[32m⠼\u001b[0m Starting service 'DaemonZenServer[2a0ebc80-a921-40e0-8f6e-b82e6ab5383d] (type:\n",
            "zen_server, flavor: daemon)'.\n",
            "\u001b[2K\u001b[1A\u001b[2K\u001b[1A\u001b[2K\u001b[32m⠴\u001b[0m Starting service 'DaemonZenServer[2a0ebc80-a921-40e0-8f6e-b82e6ab5383d] (type:\n",
            "zen_server, flavor: daemon)'.\n",
            "\u001b[2K\u001b[1A\u001b[2K\u001b[1A\u001b[2K\u001b[32m⠦\u001b[0m Starting service 'DaemonZenServer[2a0ebc80-a921-40e0-8f6e-b82e6ab5383d] (type:\n",
            "zen_server, flavor: daemon)'.\n",
            "\u001b[2K\u001b[1A\u001b[2K\u001b[1A\u001b[2K\u001b[32m⠧\u001b[0m Starting service 'DaemonZenServer[2a0ebc80-a921-40e0-8f6e-b82e6ab5383d] (type:\n",
            "zen_server, flavor: daemon)'.\n",
            "\u001b[2K\u001b[1A\u001b[2K\u001b[1A\u001b[2K\u001b[32m⠇\u001b[0m Starting service 'DaemonZenServer[2a0ebc80-a921-40e0-8f6e-b82e6ab5383d] (type:\n",
            "zen_server, flavor: daemon)'.\n",
            "\u001b[2K\u001b[1A\u001b[2K\u001b[1A\u001b[2K\u001b[32m⠏\u001b[0m Starting service 'DaemonZenServer[2a0ebc80-a921-40e0-8f6e-b82e6ab5383d] (type:\n",
            "zen_server, flavor: daemon)'.\n",
            "\u001b[2K\u001b[1A\u001b[2K\u001b[1A\u001b[2K\u001b[32m⠋\u001b[0m Starting service 'DaemonZenServer[2a0ebc80-a921-40e0-8f6e-b82e6ab5383d] (type:\n",
            "zen_server, flavor: daemon)'.\n",
            "\u001b[2K\u001b[1A\u001b[2K\u001b[1A\u001b[2K\u001b[32m⠙\u001b[0m Starting service 'DaemonZenServer[2a0ebc80-a921-40e0-8f6e-b82e6ab5383d] (type:\n",
            "zen_server, flavor: daemon)'.\n",
            "\u001b[2K\u001b[1A\u001b[2K\u001b[1A\u001b[2K\u001b[32m⠹\u001b[0m Starting service 'DaemonZenServer[2a0ebc80-a921-40e0-8f6e-b82e6ab5383d] (type:\n",
            "zen_server, flavor: daemon)'.\n",
            "\u001b[2K\u001b[1A\u001b[2K\u001b[1A\u001b[2K\u001b[32m⠸\u001b[0m Starting service 'DaemonZenServer[2a0ebc80-a921-40e0-8f6e-b82e6ab5383d] (type:\n",
            "zen_server, flavor: daemon)'.\n",
            "\u001b[2K\u001b[1A\u001b[2K\u001b[1A\u001b[2K\u001b[32m⠼\u001b[0m Starting service 'DaemonZenServer[2a0ebc80-a921-40e0-8f6e-b82e6ab5383d] (type:\n",
            "zen_server, flavor: daemon)'.\n",
            "\u001b[2K\u001b[1A\u001b[2K\u001b[1A\u001b[2K\u001b[32m⠴\u001b[0m Starting service 'DaemonZenServer[2a0ebc80-a921-40e0-8f6e-b82e6ab5383d] (type:\n",
            "zen_server, flavor: daemon)'.\n",
            "\u001b[2K\u001b[1A\u001b[2K\u001b[1A\u001b[2K\u001b[32m⠦\u001b[0m Starting service 'DaemonZenServer[2a0ebc80-a921-40e0-8f6e-b82e6ab5383d] (type:\n",
            "zen_server, flavor: daemon)'.\n",
            "\u001b[2K\u001b[1A\u001b[2K\u001b[1A\u001b[2K\u001b[32m⠧\u001b[0m Starting service 'DaemonZenServer[2a0ebc80-a921-40e0-8f6e-b82e6ab5383d] (type:\n",
            "zen_server, flavor: daemon)'.\n",
            "\u001b[2K\u001b[1A\u001b[2K\u001b[1A\u001b[2K\u001b[32m⠇\u001b[0m Starting service 'DaemonZenServer[2a0ebc80-a921-40e0-8f6e-b82e6ab5383d] (type:\n",
            "zen_server, flavor: daemon)'.\n",
            "\u001b[2K\u001b[1A\u001b[2K\u001b[1A\u001b[2K\u001b[32m⠏\u001b[0m Starting service 'DaemonZenServer[2a0ebc80-a921-40e0-8f6e-b82e6ab5383d] (type:\n",
            "zen_server, flavor: daemon)'.\n",
            "\u001b[2K\u001b[1A\u001b[2K\u001b[1A\u001b[2K\u001b[32m⠋\u001b[0m Starting service 'DaemonZenServer[2a0ebc80-a921-40e0-8f6e-b82e6ab5383d] (type:\n",
            "zen_server, flavor: daemon)'.\n",
            "\u001b[2K\u001b[1A\u001b[2K\u001b[1A\u001b[2K\u001b[32m⠙\u001b[0m Starting service 'DaemonZenServer[2a0ebc80-a921-40e0-8f6e-b82e6ab5383d] (type:\n",
            "zen_server, flavor: daemon)'.\n",
            "\u001b[2K\u001b[1A\u001b[2K\u001b[1A\u001b[2K\u001b[32m⠹\u001b[0m Starting service 'DaemonZenServer[2a0ebc80-a921-40e0-8f6e-b82e6ab5383d] (type:\n",
            "zen_server, flavor: daemon)'.\n",
            "\u001b[2K\u001b[1A\u001b[2K\u001b[1A\u001b[2K\u001b[32m⠸\u001b[0m Starting service 'DaemonZenServer[2a0ebc80-a921-40e0-8f6e-b82e6ab5383d] (type:\n",
            "zen_server, flavor: daemon)'.\n",
            "\u001b[2K\u001b[1A\u001b[2K\u001b[1A\u001b[2K\u001b[32m⠼\u001b[0m Starting service 'DaemonZenServer[2a0ebc80-a921-40e0-8f6e-b82e6ab5383d] (type:\n",
            "zen_server, flavor: daemon)'.\n",
            "\u001b[2K\u001b[1A\u001b[2K\u001b[1A\u001b[2K\u001b[32m⠴\u001b[0m Starting service 'DaemonZenServer[2a0ebc80-a921-40e0-8f6e-b82e6ab5383d] (type:\n",
            "zen_server, flavor: daemon)'.\n",
            "\u001b[2K\u001b[1A\u001b[2K\u001b[1A\u001b[2K\u001b[32m⠦\u001b[0m Starting service 'DaemonZenServer[2a0ebc80-a921-40e0-8f6e-b82e6ab5383d] (type:\n",
            "zen_server, flavor: daemon)'.\n",
            "\u001b[2K\u001b[1A\u001b[2K\u001b[1A\u001b[2K\u001b[32m⠧\u001b[0m Starting service 'DaemonZenServer[2a0ebc80-a921-40e0-8f6e-b82e6ab5383d] (type:\n",
            "zen_server, flavor: daemon)'.\n",
            "\u001b[2K\u001b[1A\u001b[2K\u001b[1A\u001b[2K\u001b[32m⠇\u001b[0m Starting service 'DaemonZenServer[2a0ebc80-a921-40e0-8f6e-b82e6ab5383d] (type:\n",
            "zen_server, flavor: daemon)'.\n",
            "\u001b[2K\u001b[1A\u001b[2K\u001b[1A\u001b[2K\u001b[32m⠏\u001b[0m Starting service 'DaemonZenServer[2a0ebc80-a921-40e0-8f6e-b82e6ab5383d] (type:\n",
            "zen_server, flavor: daemon)'.\n",
            "\u001b[2K\u001b[1A\u001b[2K\u001b[1A\u001b[2K\u001b[32m⠋\u001b[0m Starting service 'DaemonZenServer[2a0ebc80-a921-40e0-8f6e-b82e6ab5383d] (type:\n",
            "zen_server, flavor: daemon)'.\n",
            "\u001b[2K\u001b[1A\u001b[2K\u001b[1A\u001b[2K\u001b[32m⠙\u001b[0m Starting service 'DaemonZenServer[2a0ebc80-a921-40e0-8f6e-b82e6ab5383d] (type:\n",
            "zen_server, flavor: daemon)'.\n",
            "\u001b[2K\u001b[1A\u001b[2K\u001b[1A\u001b[2K\u001b[32m⠹\u001b[0m Starting service 'DaemonZenServer[2a0ebc80-a921-40e0-8f6e-b82e6ab5383d] (type:\n",
            "zen_server, flavor: daemon)'.\n",
            "\u001b[2K\u001b[1A\u001b[2K\u001b[1A\u001b[2K\u001b[32m⠸\u001b[0m Starting service 'DaemonZenServer[2a0ebc80-a921-40e0-8f6e-b82e6ab5383d] (type:\n",
            "zen_server, flavor: daemon)'.\n",
            "\u001b[2K\u001b[1A\u001b[2K\u001b[1A\u001b[2K\u001b[32m⠼\u001b[0m Starting service 'DaemonZenServer[2a0ebc80-a921-40e0-8f6e-b82e6ab5383d] (type:\n",
            "zen_server, flavor: daemon)'.\n",
            "\u001b[2K\u001b[1A\u001b[2K\u001b[1A\u001b[2K\u001b[32m⠴\u001b[0m Starting service 'DaemonZenServer[2a0ebc80-a921-40e0-8f6e-b82e6ab5383d] (type:\n",
            "zen_server, flavor: daemon)'.\n",
            "\u001b[2K\u001b[1A\u001b[2K\u001b[1A\u001b[2K\u001b[32m⠦\u001b[0m Starting service 'DaemonZenServer[2a0ebc80-a921-40e0-8f6e-b82e6ab5383d] (type:\n",
            "zen_server, flavor: daemon)'.\n",
            "\u001b[2K\u001b[1A\u001b[2K\u001b[1A\u001b[2K\u001b[32m⠧\u001b[0m Starting service 'DaemonZenServer[2a0ebc80-a921-40e0-8f6e-b82e6ab5383d] (type:\n",
            "zen_server, flavor: daemon)'.\n",
            "\u001b[2K\u001b[1A\u001b[2K\u001b[1A\u001b[2K\u001b[32m⠇\u001b[0m Starting service 'DaemonZenServer[2a0ebc80-a921-40e0-8f6e-b82e6ab5383d] (type:\n",
            "zen_server, flavor: daemon)'.\n",
            "\u001b[2K\u001b[1A\u001b[2K\u001b[1A\u001b[2K\u001b[32m⠏\u001b[0m Starting service 'DaemonZenServer[2a0ebc80-a921-40e0-8f6e-b82e6ab5383d] (type:\n",
            "zen_server, flavor: daemon)'.\n",
            "\u001b[2K\u001b[1A\u001b[2K\u001b[1A\u001b[2K\u001b[32m⠋\u001b[0m Starting service 'DaemonZenServer[2a0ebc80-a921-40e0-8f6e-b82e6ab5383d] (type:\n",
            "zen_server, flavor: daemon)'.\n",
            "\u001b[2K\u001b[1A\u001b[2K\u001b[1A\u001b[2K\u001b[32m⠙\u001b[0m Starting service 'DaemonZenServer[2a0ebc80-a921-40e0-8f6e-b82e6ab5383d] (type:\n",
            "zen_server, flavor: daemon)'.\n",
            "\u001b[2K\u001b[1A\u001b[2K\u001b[1A\u001b[2K\u001b[32m⠹\u001b[0m Starting service 'DaemonZenServer[2a0ebc80-a921-40e0-8f6e-b82e6ab5383d] (type:\n",
            "zen_server, flavor: daemon)'.\n",
            "\u001b[2K\u001b[1A\u001b[2K\u001b[1A\u001b[2K\u001b[32m⠸\u001b[0m Starting service 'DaemonZenServer[2a0ebc80-a921-40e0-8f6e-b82e6ab5383d] (type:\n",
            "zen_server, flavor: daemon)'.\n",
            "\u001b[2K\u001b[1A\u001b[2K\u001b[1A\u001b[2K\u001b[32m⠼\u001b[0m Starting service 'DaemonZenServer[2a0ebc80-a921-40e0-8f6e-b82e6ab5383d] (type:\n",
            "zen_server, flavor: daemon)'.\n",
            "\u001b[2K\u001b[1A\u001b[2K\u001b[1A\u001b[2K\u001b[32m⠴\u001b[0m Starting service 'DaemonZenServer[2a0ebc80-a921-40e0-8f6e-b82e6ab5383d] (type:\n",
            "zen_server, flavor: daemon)'.\n",
            "\u001b[2K\u001b[1A\u001b[2K\u001b[1A\u001b[2K\u001b[32m⠦\u001b[0m Starting service 'DaemonZenServer[2a0ebc80-a921-40e0-8f6e-b82e6ab5383d] (type:\n",
            "zen_server, flavor: daemon)'.\n",
            "\u001b[2K\u001b[1A\u001b[2K\u001b[1A\u001b[2K\u001b[32m⠧\u001b[0m Starting service 'DaemonZenServer[2a0ebc80-a921-40e0-8f6e-b82e6ab5383d] (type:\n",
            "zen_server, flavor: daemon)'.\n",
            "\u001b[2K\u001b[1A\u001b[2K\u001b[1A\u001b[2K\u001b[32m⠇\u001b[0m Starting service 'DaemonZenServer[2a0ebc80-a921-40e0-8f6e-b82e6ab5383d] (type:\n",
            "zen_server, flavor: daemon)'.\n",
            "\u001b[2K\u001b[1A\u001b[2K\u001b[1A\u001b[2K\u001b[32m⠏\u001b[0m Starting service 'DaemonZenServer[2a0ebc80-a921-40e0-8f6e-b82e6ab5383d] (type:\n",
            "zen_server, flavor: daemon)'.\n",
            "\u001b[2K\u001b[1A\u001b[2K\u001b[1A\u001b[2K\u001b[32m⠙\u001b[0m Starting service 'DaemonZenServer[2a0ebc80-a921-40e0-8f6e-b82e6ab5383d] (type:\n",
            "zen_server, flavor: daemon)'.\n",
            "\u001b[2K\u001b[1A\u001b[2K\u001b[1A\u001b[2K\u001b[32m⠹\u001b[0m Starting service 'DaemonZenServer[2a0ebc80-a921-40e0-8f6e-b82e6ab5383d] (type:\n",
            "zen_server, flavor: daemon)'.\n",
            "\u001b[2K\u001b[1A\u001b[2K\u001b[1A\u001b[2K\u001b[32m⠸\u001b[0m Starting service 'DaemonZenServer[2a0ebc80-a921-40e0-8f6e-b82e6ab5383d] (type:\n",
            "zen_server, flavor: daemon)'.\n",
            "\u001b[2K\u001b[1A\u001b[2K\u001b[1A\u001b[2K\u001b[32m⠼\u001b[0m Starting service 'DaemonZenServer[2a0ebc80-a921-40e0-8f6e-b82e6ab5383d] (type:\n",
            "zen_server, flavor: daemon)'.\n",
            "\u001b[2K\u001b[1A\u001b[2K\u001b[1A\u001b[2K\u001b[32m⠴\u001b[0m Starting service 'DaemonZenServer[2a0ebc80-a921-40e0-8f6e-b82e6ab5383d] (type:\n",
            "zen_server, flavor: daemon)'.\n",
            "\u001b[2K\u001b[1A\u001b[2K\u001b[1A\u001b[2K\u001b[32m⠦\u001b[0m Starting service 'DaemonZenServer[2a0ebc80-a921-40e0-8f6e-b82e6ab5383d] (type:\n",
            "zen_server, flavor: daemon)'.\n",
            "\u001b[2K\u001b[1A\u001b[2K\u001b[1A\u001b[2K\u001b[32m⠧\u001b[0m Starting service 'DaemonZenServer[2a0ebc80-a921-40e0-8f6e-b82e6ab5383d] (type:\n",
            "zen_server, flavor: daemon)'.\n",
            "\u001b[2K\u001b[1A\u001b[2K\u001b[1A\u001b[2K\u001b[32m⠇\u001b[0m Starting service 'DaemonZenServer[2a0ebc80-a921-40e0-8f6e-b82e6ab5383d] (type:\n",
            "zen_server, flavor: daemon)'.\n",
            "\u001b[2K\u001b[1A\u001b[2K\u001b[1A\u001b[2K\u001b[32m⠏\u001b[0m Starting service 'DaemonZenServer[2a0ebc80-a921-40e0-8f6e-b82e6ab5383d] (type:\n",
            "zen_server, flavor: daemon)'.\n",
            "\u001b[2K\u001b[1A\u001b[2K\u001b[1A\u001b[2K\u001b[32m⠋\u001b[0m Starting service 'DaemonZenServer[2a0ebc80-a921-40e0-8f6e-b82e6ab5383d] (type:\n",
            "zen_server, flavor: daemon)'.\n",
            "\u001b[2K\u001b[1A\u001b[2K\u001b[1A\u001b[2K\u001b[32m⠙\u001b[0m Starting service 'DaemonZenServer[2a0ebc80-a921-40e0-8f6e-b82e6ab5383d] (type:\n",
            "zen_server, flavor: daemon)'.\n",
            "\u001b[2K\u001b[1A\u001b[2K\u001b[1A\u001b[2K\u001b[32m⠹\u001b[0m Starting service 'DaemonZenServer[2a0ebc80-a921-40e0-8f6e-b82e6ab5383d] (type:\n",
            "zen_server, flavor: daemon)'.\n",
            "\u001b[2K\u001b[1A\u001b[2K\u001b[1A\u001b[2K\u001b[32m⠸\u001b[0m Starting service 'DaemonZenServer[2a0ebc80-a921-40e0-8f6e-b82e6ab5383d] (type:\n",
            "zen_server, flavor: daemon)'.\n",
            "\u001b[2K\u001b[1A\u001b[2K\u001b[1A\u001b[2K\u001b[32m⠼\u001b[0m Starting service 'DaemonZenServer[2a0ebc80-a921-40e0-8f6e-b82e6ab5383d] (type:\n",
            "zen_server, flavor: daemon)'.\n",
            "\u001b[2K\u001b[1A\u001b[2K\u001b[1A\u001b[2K\u001b[32m⠴\u001b[0m Starting service 'DaemonZenServer[2a0ebc80-a921-40e0-8f6e-b82e6ab5383d] (type:\n",
            "zen_server, flavor: daemon)'.\n",
            "\u001b[2K\u001b[1A\u001b[2K\u001b[1A\u001b[2K\u001b[32m⠦\u001b[0m Starting service 'DaemonZenServer[2a0ebc80-a921-40e0-8f6e-b82e6ab5383d] (type:\n",
            "zen_server, flavor: daemon)'.\n",
            "\u001b[2K\u001b[1A\u001b[2K\u001b[1A\u001b[2K\u001b[32m⠧\u001b[0m Starting service 'DaemonZenServer[2a0ebc80-a921-40e0-8f6e-b82e6ab5383d] (type:\n",
            "zen_server, flavor: daemon)'.\n",
            "\u001b[2K\u001b[1A\u001b[2K\u001b[1A\u001b[2K\u001b[32m⠇\u001b[0m Starting service 'DaemonZenServer[2a0ebc80-a921-40e0-8f6e-b82e6ab5383d] (type:\n",
            "zen_server, flavor: daemon)'.\n",
            "\u001b[2K\u001b[1A\u001b[2K\u001b[1A\u001b[2K\u001b[32m⠏\u001b[0m Starting service 'DaemonZenServer[2a0ebc80-a921-40e0-8f6e-b82e6ab5383d] (type:\n",
            "zen_server, flavor: daemon)'.\n",
            "\u001b[2K\u001b[1A\u001b[2K\u001b[1A\u001b[2K\u001b[32m⠋\u001b[0m Starting service 'DaemonZenServer[2a0ebc80-a921-40e0-8f6e-b82e6ab5383d] (type:\n",
            "zen_server, flavor: daemon)'.\n",
            "\u001b[2K\u001b[1A\u001b[2K\u001b[1A\u001b[2K\u001b[32m⠙\u001b[0m Starting service 'DaemonZenServer[2a0ebc80-a921-40e0-8f6e-b82e6ab5383d] (type:\n",
            "zen_server, flavor: daemon)'.\n",
            "\u001b[2K\u001b[1A\u001b[2K\u001b[1A\u001b[2K\u001b[32m⠹\u001b[0m Starting service 'DaemonZenServer[2a0ebc80-a921-40e0-8f6e-b82e6ab5383d] (type:\n",
            "zen_server, flavor: daemon)'.\n",
            "\u001b[2K\u001b[1A\u001b[2K\u001b[1A\u001b[2K\u001b[32m⠸\u001b[0m Starting service 'DaemonZenServer[2a0ebc80-a921-40e0-8f6e-b82e6ab5383d] (type:\n",
            "zen_server, flavor: daemon)'.\n",
            "\u001b[2K\u001b[1A\u001b[2K\u001b[1A\u001b[2K\u001b[32m⠼\u001b[0m Starting service 'DaemonZenServer[2a0ebc80-a921-40e0-8f6e-b82e6ab5383d] (type:\n",
            "zen_server, flavor: daemon)'.\n",
            "\u001b[2K\u001b[1A\u001b[2K\u001b[1A\u001b[2K\u001b[32m⠴\u001b[0m Starting service 'DaemonZenServer[2a0ebc80-a921-40e0-8f6e-b82e6ab5383d] (type:\n",
            "zen_server, flavor: daemon)'.\n",
            "\u001b[2K\u001b[1A\u001b[2K\u001b[1A\u001b[2K\u001b[32m⠦\u001b[0m Starting service 'DaemonZenServer[2a0ebc80-a921-40e0-8f6e-b82e6ab5383d] (type:\n",
            "zen_server, flavor: daemon)'.\n",
            "\u001b[2K\u001b[1A\u001b[2K\u001b[1A\u001b[2K\u001b[32m⠧\u001b[0m Starting service 'DaemonZenServer[2a0ebc80-a921-40e0-8f6e-b82e6ab5383d] (type:\n",
            "zen_server, flavor: daemon)'.\n",
            "\u001b[2K\u001b[1A\u001b[2K\u001b[1A\u001b[2K\u001b[32m⠇\u001b[0m Starting service 'DaemonZenServer[2a0ebc80-a921-40e0-8f6e-b82e6ab5383d] (type:\n",
            "zen_server, flavor: daemon)'.\n",
            "\u001b[2K\u001b[1A\u001b[2K\u001b[1A\u001b[2K\u001b[32m⠏\u001b[0m Starting service 'DaemonZenServer[2a0ebc80-a921-40e0-8f6e-b82e6ab5383d] (type:\n",
            "zen_server, flavor: daemon)'.\n",
            "\u001b[2K\u001b[1A\u001b[2K\u001b[1A\u001b[2K\u001b[32m⠋\u001b[0m Starting service 'DaemonZenServer[2a0ebc80-a921-40e0-8f6e-b82e6ab5383d] (type:\n",
            "zen_server, flavor: daemon)'.\n",
            "\u001b[2K\u001b[1A\u001b[2K\u001b[1A\u001b[2K\u001b[32m⠙\u001b[0m Starting service 'DaemonZenServer[2a0ebc80-a921-40e0-8f6e-b82e6ab5383d] (type:\n",
            "zen_server, flavor: daemon)'.\n",
            "\u001b[2K\u001b[1A\u001b[2K\u001b[1A\u001b[2K\u001b[32m⠹\u001b[0m Starting service 'DaemonZenServer[2a0ebc80-a921-40e0-8f6e-b82e6ab5383d] (type:\n",
            "zen_server, flavor: daemon)'.\n",
            "\u001b[2K\u001b[1A\u001b[2K\u001b[1A\u001b[2K\u001b[32m⠸\u001b[0m Starting service 'DaemonZenServer[2a0ebc80-a921-40e0-8f6e-b82e6ab5383d] (type:\n",
            "zen_server, flavor: daemon)'.\n",
            "\u001b[2K\u001b[1A\u001b[2K\u001b[1A\u001b[2K\u001b[32m⠼\u001b[0m Starting service 'DaemonZenServer[2a0ebc80-a921-40e0-8f6e-b82e6ab5383d] (type:\n",
            "zen_server, flavor: daemon)'.\n",
            "\u001b[2K\u001b[1A\u001b[2K\u001b[1A\u001b[2K\u001b[32m⠴\u001b[0m Starting service 'DaemonZenServer[2a0ebc80-a921-40e0-8f6e-b82e6ab5383d] (type:\n",
            "zen_server, flavor: daemon)'.\n",
            "\u001b[2K\u001b[1A\u001b[2K\u001b[1A\u001b[2K\u001b[32m⠦\u001b[0m Starting service 'DaemonZenServer[2a0ebc80-a921-40e0-8f6e-b82e6ab5383d] (type:\n",
            "zen_server, flavor: daemon)'.\n",
            "\u001b[2K\u001b[1A\u001b[2K\u001b[1A\u001b[2K\u001b[32m⠧\u001b[0m Starting service 'DaemonZenServer[2a0ebc80-a921-40e0-8f6e-b82e6ab5383d] (type:\n",
            "zen_server, flavor: daemon)'.\n",
            "\u001b[2K\u001b[1A\u001b[2K\u001b[1A\u001b[2K\u001b[32m⠏\u001b[0m Starting service 'DaemonZenServer[2a0ebc80-a921-40e0-8f6e-b82e6ab5383d] (type:\n",
            "zen_server, flavor: daemon)'.\n",
            "\u001b[2K\u001b[1A\u001b[2K\u001b[1A\u001b[2K\u001b[32m⠋\u001b[0m Starting service 'DaemonZenServer[2a0ebc80-a921-40e0-8f6e-b82e6ab5383d] (type:\n",
            "zen_server, flavor: daemon)'.\n",
            "\u001b[2K\u001b[1A\u001b[2K\u001b[1A\u001b[2K\u001b[32m⠙\u001b[0m Starting service 'DaemonZenServer[2a0ebc80-a921-40e0-8f6e-b82e6ab5383d] (type:\n",
            "zen_server, flavor: daemon)'.\n",
            "\u001b[2K\u001b[1A\u001b[2K\u001b[1A\u001b[2K\u001b[32m⠹\u001b[0m Starting service 'DaemonZenServer[2a0ebc80-a921-40e0-8f6e-b82e6ab5383d] (type:\n",
            "zen_server, flavor: daemon)'.\n",
            "\u001b[2K\u001b[1A\u001b[2K\u001b[1A\u001b[2K\u001b[32m⠸\u001b[0m Starting service 'DaemonZenServer[2a0ebc80-a921-40e0-8f6e-b82e6ab5383d] (type:\n",
            "zen_server, flavor: daemon)'.\n",
            "\u001b[2K\u001b[1A\u001b[2K\u001b[1A\u001b[2K\u001b[32m⠼\u001b[0m Starting service 'DaemonZenServer[2a0ebc80-a921-40e0-8f6e-b82e6ab5383d] (type:\n",
            "zen_server, flavor: daemon)'.\n",
            "\u001b[2K\u001b[1A\u001b[2K\u001b[1A\u001b[2K\u001b[32m⠴\u001b[0m Starting service 'DaemonZenServer[2a0ebc80-a921-40e0-8f6e-b82e6ab5383d] (type:\n",
            "zen_server, flavor: daemon)'.\n",
            "\u001b[2K\u001b[1A\u001b[2K\u001b[1A\u001b[2K\u001b[32m⠦\u001b[0m Starting service 'DaemonZenServer[2a0ebc80-a921-40e0-8f6e-b82e6ab5383d] (type:\n",
            "zen_server, flavor: daemon)'.\n",
            "\u001b[2K\u001b[1A\u001b[2K\u001b[1A\u001b[2K\u001b[32m⠧\u001b[0m Starting service 'DaemonZenServer[2a0ebc80-a921-40e0-8f6e-b82e6ab5383d] (type:\n",
            "zen_server, flavor: daemon)'.\n",
            "\u001b[2K\u001b[1A\u001b[2K\u001b[1A\u001b[2K\u001b[32m⠇\u001b[0m Starting service 'DaemonZenServer[2a0ebc80-a921-40e0-8f6e-b82e6ab5383d] (type:\n",
            "zen_server, flavor: daemon)'.\n",
            "\u001b[2K\u001b[1A\u001b[2K\u001b[1A\u001b[2K\u001b[32m⠏\u001b[0m Starting service 'DaemonZenServer[2a0ebc80-a921-40e0-8f6e-b82e6ab5383d] (type:\n",
            "zen_server, flavor: daemon)'.\n",
            "\u001b[2K\u001b[1A\u001b[2K\u001b[1A\u001b[2K\u001b[32m⠋\u001b[0m Starting service 'DaemonZenServer[2a0ebc80-a921-40e0-8f6e-b82e6ab5383d] (type:\n",
            "zen_server, flavor: daemon)'.\n",
            "\u001b[2K\u001b[1A\u001b[2K\u001b[1A\u001b[2K\u001b[32m⠙\u001b[0m Starting service 'DaemonZenServer[2a0ebc80-a921-40e0-8f6e-b82e6ab5383d] (type:\n",
            "zen_server, flavor: daemon)'.\n",
            "\u001b[2K\u001b[1A\u001b[2K\u001b[1A\u001b[2K\u001b[32m⠹\u001b[0m Starting service 'DaemonZenServer[2a0ebc80-a921-40e0-8f6e-b82e6ab5383d] (type:\n",
            "zen_server, flavor: daemon)'.\n",
            "\u001b[2K\u001b[1A\u001b[2K\u001b[1A\u001b[2K\u001b[32m⠸\u001b[0m Starting service 'DaemonZenServer[2a0ebc80-a921-40e0-8f6e-b82e6ab5383d] (type:\n",
            "zen_server, flavor: daemon)'.\n",
            "\u001b[2K\u001b[1A\u001b[2K\u001b[1A\u001b[2K\u001b[32m⠸\u001b[0m Starting service 'DaemonZenServer[2a0ebc80-a921-40e0-8f6e-b82e6ab5383d] (type:\n",
            "zen_server, flavor: daemon)'.\n",
            "\n",
            "\u001b[1A\u001b[2K\u001b[1A\u001b[2K\u001b[1A\u001b[2K\u001b[1;35mConnecting to the local daemon ZenML server (\u001b[0m\u001b[34mhttp://127.0.0.1:8237).\u001b[1;35m\u001b[0m\n",
            "\u001b[1;35mUpdated the global store configuration.\u001b[0m\n",
            "\u001b[1;35mConnected to the local daemon ZenML server (\u001b[0m\u001b[34mhttp://127.0.0.1:8237).\u001b[1;35m\u001b[0m\n",
            "\u001b[2;36mThe local ZenML dashboard is available at \u001b[0m\u001b[2;32m'http://127.0.0.1:8237'\u001b[0m\u001b[2;36m.\u001b[0m\n",
            "\u001b[1;35mAutomatically opening the dashboard in your browser. To disable this, set the env variable AUTO_OPEN_DASHBOARD=false.\u001b[0m\n"
          ]
        }
      ],
      "source": [
        "from zenml.environment import Environment\n",
        "\n",
        "def start_zenml_dashboard(port=8237):\n",
        "  if Environment.in_google_colab():\n",
        "    from pyngrok import ngrok\n",
        "\n",
        "    public_url = ngrok.connect(port)\n",
        "    print(f\"Dashboard running at {public_url}\")\n",
        "    !zenml up --blocking --port {port}\n",
        "  else:\n",
        "    !zenml up --port {port}\n",
        "\n",
        "start_zenml_dashboard()"
      ]
    },
    {
      "cell_type": "code",
      "execution_count": null,
      "metadata": {
        "id": "AoM-W6L29Dfj"
      },
      "outputs": [],
      "source": []
    },
    {
      "cell_type": "code",
      "execution_count": null,
      "metadata": {
        "id": "XnVualYk9DcV"
      },
      "outputs": [],
      "source": []
    },
    {
      "cell_type": "code",
      "execution_count": null,
      "metadata": {
        "id": "PCKHO9Jk9DZP"
      },
      "outputs": [],
      "source": []
    },
    {
      "cell_type": "code",
      "execution_count": null,
      "metadata": {
        "id": "34nuzNm29DV2"
      },
      "outputs": [],
      "source": []
    },
    {
      "cell_type": "code",
      "execution_count": null,
      "metadata": {
        "id": "1gmBVbtZ9DSY"
      },
      "outputs": [],
      "source": []
    },
    {
      "cell_type": "code",
      "execution_count": null,
      "metadata": {
        "id": "D8a4VlIf9DO-"
      },
      "outputs": [],
      "source": []
    },
    {
      "cell_type": "code",
      "execution_count": null,
      "metadata": {
        "id": "Z4C-slnY9DK2"
      },
      "outputs": [],
      "source": []
    },
    {
      "cell_type": "code",
      "execution_count": null,
      "metadata": {
        "id": "uP_0ShsE3ObK"
      },
      "outputs": [],
      "source": []
    },
    {
      "cell_type": "code",
      "execution_count": null,
      "metadata": {
        "id": "v2JO81033OYy"
      },
      "outputs": [],
      "source": []
    },
    {
      "cell_type": "code",
      "execution_count": null,
      "metadata": {
        "id": "GdpIIg-V3OWQ"
      },
      "outputs": [],
      "source": []
    },
    {
      "cell_type": "code",
      "execution_count": null,
      "metadata": {
        "id": "E5yErMjC3OTt"
      },
      "outputs": [],
      "source": []
    },
    {
      "cell_type": "code",
      "execution_count": null,
      "metadata": {
        "id": "boCBN75X3OQw"
      },
      "outputs": [],
      "source": []
    }
  ],
  "metadata": {
    "accelerator": "GPU",
    "colab": {
      "gpuType": "T4",
      "provenance": []
    },
    "kernelspec": {
      "display_name": "myenv",
      "language": "python",
      "name": "python3"
    },
    "language_info": {
      "codemirror_mode": {
        "name": "ipython",
        "version": 3
      },
      "file_extension": ".py",
      "mimetype": "text/x-python",
      "name": "python",
      "nbconvert_exporter": "python",
      "pygments_lexer": "ipython3",
      "version": "3.12.8"
    }
  },
  "nbformat": 4,
  "nbformat_minor": 0
}
